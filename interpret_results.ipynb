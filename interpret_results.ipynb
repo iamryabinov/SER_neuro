{
 "cells": [
  {
   "cell_type": "markdown",
   "metadata": {},
   "source": [
    "# Результаты однозадачного обучения IEMOCAP\n",
    "### Использованные модели:\n",
    "1. **AlexNet** <font color=green>[Alex Krizhevsky, Ilya Sutskever, and Geoffrey E. Hinton. 2017. ImageNet classification with deep convolutional neural networks. <i>Commun. ACM</i> 60, 6 (June 2017), 84–90. DOI:https://doi.org/10.1145/3065386]</font> c немного измененной архитектурой, а именно:\n",
    "    - Количество входных каналов первого сверточного слоя уменьшено с 3 до 1\n",
    "    - Изменён последний свёрточный слой, его ядро увеличено с (3, 3) до (4, 4)\n",
    "    - Изменён слой AdaptiveAvgPool2d с (6, 6) до (5, 5)\n",
    "    - Изменён классификатор, теперь это четыре полносвязных слоя: 6400, 2048, 512, <число классов>\n",
    "    - Добавлен Dropout() после первого и второго полносвязного слоя\n",
    "2. **VGG-11, VGG-19** <font color=green>[Simonyan, Karen & Zisserman, Andrew. (2014). Very Deep Convolutional Networks for Large-Scale Image Recognition. arXiv 1409.1556. ]</font>, также немного переделанные, чтобы соответствовать нашим данным\n",
    "3. **ResNet-34, ResNet-50** <font color=green>[K. He, X. Zhang, S. Ren and J. Sun, \"Deep Residual Learning for Image Recognition,\" 2016 IEEE Conference on Computer Vision and Pattern Recognition (CVPR), Las Vegas, NV, 2016, pp. 770-778, doi: 10.1109/CVPR.2016.90.]</font>\n",
    "4. **DeepNet** <font color=green>[Anvarjon, T.; Mustaqeem; Kwon, S. Deep-Net: A Lightweight CNN-Based Speech Emotion Recognition System Using Deep Frequency Features. Sensors 2020, 20, 5212.]</font><br>У этой архитектуры заявлена точность на четырехклассовом IEMOCAP 77%. Отличается использованием свёртки с ядрами от (11,1) до (1,1), таким образом, свёртка спектрограммы происходит только по частотной оси. На вход подаются спектрограммы размерности 64х64. <br>\n",
    "5. **StrideNet** <font color=green>[., Mustaqeem & Kwon, Soonil. (2019). A CNN-Assisted Enhanced Audio Signal Processing for Speech Emotion Recognition. Sensors. 20. 183. 10.3390/s20010183. ]</font> <br> Ещё одна архитектура с высокой заявленной точностью.\n",
    "Особенностью этой архитектуры является отсутствие Pooling слоёв: снижение размерности достигается использованием шага свёртки, равного двум. На вход подаются спектрограммы размером 128x128  <br>"
   ]
  },
  {
   "cell_type": "markdown",
   "metadata": {},
   "source": [
    "### Датасет\n",
    "Был использован IEMOCAP с четырьмя эмоциональными категориями (Anger, Happiness, Neutral, Sadness). Были протестированы следующие варианты: <br>\n",
    "1. Без \"аугментации\", без препроцессинга\n",
    "2. Без \"аугментации\", с препроцессингом\n",
    "3. С \"аугментацией\", без препроцессинга\n",
    "4. С \"аугментацией\", с препроцессингом"
   ]
  },
  {
   "cell_type": "markdown",
   "metadata": {},
   "source": [
    "### Процесс обучения.\n",
    "Все модели были обучены с использованием Adam, learning rate=1e-5, количество эпох - от 300 до 700. Также для ускорения процесса, поскольку вариантов много, в ходе экспериментов в процесс обучения была включена возможность остановить обучение, если validation loss не уменьшался на протяжении определенного количества эпох. Лучшие модели (с наименьшим показателем validation loss) сохранялись на жесткий диск с помощью pickle. "
   ]
  },
  {
   "cell_type": "code",
   "execution_count": 62,
   "metadata": {},
   "outputs": [],
   "source": [
    "import pandas as pd \n",
    "import pickle\n",
    "import numpy as np \n",
    "import matplotlib.pyplot as plt\n",
    "import os\n",
    "from constants import *\n",
    "from IPython.display import display \n",
    "import seaborn as sns "
   ]
  },
  {
   "cell_type": "code",
   "execution_count": 20,
   "metadata": {},
   "outputs": [],
   "source": [
    "def create_results_df(net):\n",
    "    dfs_list = []\n",
    "    for metric in ['acc', 'loss']:\n",
    "        _dfs_list = []\n",
    "        for subset in ['train', 'valid']:\n",
    "            results = net.history[:, f'{subset}_{metric}']\n",
    "            df = pd.DataFrame(results, columns=['result'])\n",
    "            df['epochs'] = np.arange(1, len(results) + 1)\n",
    "            df['subset'] = subset\n",
    "            _dfs_list.append(df)\n",
    "        df = pd.concat(_dfs_list, ignore_index=True)\n",
    "        df['metric'] = metric\n",
    "        dfs_list.append(df)\n",
    "    final_df = pd.concat(dfs_list, ignore_index=True)\n",
    "    return final_df"
   ]
  },
  {
   "cell_type": "code",
   "execution_count": 21,
   "metadata": {},
   "outputs": [],
   "source": [
    "def create_results_summary():\n",
    "    dfs_list = []\n",
    "    models_list = [file for file in os.listdir(RESULTS_FOLDER) if file.endswith('md') and 'IEMOCAP' in file]\n",
    "    path_to_processed_list = os.path.join(RESULTS_FOLDER, 'processed_list.temp')\n",
    "    if os.path.exists(path_to_processed_list):\n",
    "        with open(path_to_processed_list, 'rb') as f:\n",
    "            processed_list = pickle.load(f)\n",
    "            files_list = processed_list['files']\n",
    "            dfs_list = processed_list['dfs']\n",
    "    else:\n",
    "        processed_list = {}\n",
    "        dfs_list = []\n",
    "        files_list = []\n",
    "    for file in models_list:\n",
    "        print(file)\n",
    "        if file in files_list:\n",
    "            continue\n",
    "        model, dataset = file[:-3].split('--')\n",
    "        dataset, _, preprocessing, _, _, augmentation = dataset.split('_')\n",
    "        preprocessing = preprocessing.split('-')[-1]\n",
    "        augmentation = augmentation.split('-')[-1]\n",
    "        with open(os.path.join(RESULTS_FOLDER, file), 'rb') as f:\n",
    "            net = pickle.load(f)\n",
    "        df = create_results_df(net)\n",
    "        df['model'] = model\n",
    "        df['dataset'] = dataset\n",
    "        df['preprocessing'] = preprocessing\n",
    "        df['augmentation'] = augmentation\n",
    "        print(df)\n",
    "        dfs_list.append(df)\n",
    "        files_list.append(file)\n",
    "        processed_list['dfs'] = dfs_list\n",
    "        processed_list['files'] = files_list\n",
    "        with open(path_to_processed_list, 'wb') as f:\n",
    "            pickle.dump(processed_list, f)\n",
    "        print('///Done///')\n",
    "    if len(files_list) == len(models_list):\n",
    "        final_df = pd.concat(dfs_list, ignore_index=True)\n",
    "        final_df.to_csv(os.path.join(RESULTS_FOLDER, 'iemocap_all_results.csv'), sep = ';', index=False)"
   ]
  },
  {
   "cell_type": "code",
   "execution_count": 22,
   "metadata": {},
   "outputs": [
    {
     "name": "stdout",
     "output_type": "stream",
     "text": [
      "AlexNet--IEMOCAP-4_four_prep-false_224_train_augmentation-false.md\n",
      "AlexNet--IEMOCAP-4_four_prep-false_224_train_augmentation-true.md\n",
      "AlexNet--IEMOCAP-4_four_prep-true_224_train_augmentation-false.md\n",
      "AlexNet--IEMOCAP-4_four_prep-true_224_train_augmentation-true.md\n",
      "DeepNet--IEMOCAP-4_four_prep-false_64_train_augmentation-false.md\n",
      "DeepNet--IEMOCAP-4_four_prep-false_64_train_augmentation-true.md\n",
      "DeepNet--IEMOCAP-4_four_prep-true_64_train_augmentation-false.md\n",
      "DeepNet--IEMOCAP-4_four_prep-true_64_train_augmentation-true.md\n",
      "ResNet34--IEMOCAP-4_four_prep-false_224_train_augmentation-true.md\n",
      "ResNet50--IEMOCAP-4_four_prep-false_224_train_augmentation-true.md\n",
      "StrideNet--IEMOCAP-4_four_prep-false_128_train_augmentation-false.md\n",
      "StrideNet--IEMOCAP-4_four_prep-true_128_train_augmentation-false.md\n",
      "VggNet--IEMOCAP-4_four_prep-false_128_train_augmentation-false.md\n",
      "VggNet--IEMOCAP-4_four_prep-false_224_train_augmentation-true.md\n",
      "VggNet--IEMOCAP-4_four_prep-true_224_train_augmentation-false.md\n",
      "VggNet--IEMOCAP-4_four_prep-true_224_train_augmentation-true.md\n",
      "VggNet-19--IEMOCAP-4_four_prep-false_224_train_augmentation-true.md\n"
     ]
    }
   ],
   "source": [
    "create_results_summary()"
   ]
  },
  {
   "cell_type": "markdown",
   "metadata": {},
   "source": [
    "### Результаты всех однозадачных моделей на датасете IEMOCAP содержатся в файле iemocap_all_results.csv"
   ]
  },
  {
   "cell_type": "code",
   "execution_count": 29,
   "metadata": {},
   "outputs": [
    {
     "data": {
      "text/html": [
       "<div>\n",
       "<style scoped>\n",
       "    .dataframe tbody tr th:only-of-type {\n",
       "        vertical-align: middle;\n",
       "    }\n",
       "\n",
       "    .dataframe tbody tr th {\n",
       "        vertical-align: top;\n",
       "    }\n",
       "\n",
       "    .dataframe thead th {\n",
       "        text-align: right;\n",
       "    }\n",
       "</style>\n",
       "<table border=\"1\" class=\"dataframe\">\n",
       "  <thead>\n",
       "    <tr style=\"text-align: right;\">\n",
       "      <th></th>\n",
       "      <th>result</th>\n",
       "      <th>epochs</th>\n",
       "      <th>subset</th>\n",
       "      <th>metric</th>\n",
       "      <th>model</th>\n",
       "      <th>dataset</th>\n",
       "      <th>preprocessing</th>\n",
       "      <th>augmentation</th>\n",
       "    </tr>\n",
       "  </thead>\n",
       "  <tbody>\n",
       "    <tr>\n",
       "      <th>0</th>\n",
       "      <td>0.513438</td>\n",
       "      <td>1</td>\n",
       "      <td>train</td>\n",
       "      <td>acc</td>\n",
       "      <td>VggNet</td>\n",
       "      <td>IEMOCAP-4</td>\n",
       "      <td>True</td>\n",
       "      <td>False</td>\n",
       "    </tr>\n",
       "    <tr>\n",
       "      <th>1</th>\n",
       "      <td>0.587066</td>\n",
       "      <td>2</td>\n",
       "      <td>train</td>\n",
       "      <td>acc</td>\n",
       "      <td>VggNet</td>\n",
       "      <td>IEMOCAP-4</td>\n",
       "      <td>True</td>\n",
       "      <td>False</td>\n",
       "    </tr>\n",
       "    <tr>\n",
       "      <th>2</th>\n",
       "      <td>0.594345</td>\n",
       "      <td>3</td>\n",
       "      <td>train</td>\n",
       "      <td>acc</td>\n",
       "      <td>VggNet</td>\n",
       "      <td>IEMOCAP-4</td>\n",
       "      <td>True</td>\n",
       "      <td>False</td>\n",
       "    </tr>\n",
       "    <tr>\n",
       "      <th>3</th>\n",
       "      <td>0.609183</td>\n",
       "      <td>4</td>\n",
       "      <td>train</td>\n",
       "      <td>acc</td>\n",
       "      <td>VggNet</td>\n",
       "      <td>IEMOCAP-4</td>\n",
       "      <td>True</td>\n",
       "      <td>False</td>\n",
       "    </tr>\n",
       "    <tr>\n",
       "      <th>4</th>\n",
       "      <td>0.611982</td>\n",
       "      <td>5</td>\n",
       "      <td>train</td>\n",
       "      <td>acc</td>\n",
       "      <td>VggNet</td>\n",
       "      <td>IEMOCAP-4</td>\n",
       "      <td>True</td>\n",
       "      <td>False</td>\n",
       "    </tr>\n",
       "    <tr>\n",
       "      <th>...</th>\n",
       "      <td>...</td>\n",
       "      <td>...</td>\n",
       "      <td>...</td>\n",
       "      <td>...</td>\n",
       "      <td>...</td>\n",
       "      <td>...</td>\n",
       "      <td>...</td>\n",
       "      <td>...</td>\n",
       "    </tr>\n",
       "    <tr>\n",
       "      <th>18043</th>\n",
       "      <td>0.933324</td>\n",
       "      <td>181</td>\n",
       "      <td>valid</td>\n",
       "      <td>loss</td>\n",
       "      <td>DeepNet</td>\n",
       "      <td>IEMOCAP-4</td>\n",
       "      <td>True</td>\n",
       "      <td>False</td>\n",
       "    </tr>\n",
       "    <tr>\n",
       "      <th>18044</th>\n",
       "      <td>0.926249</td>\n",
       "      <td>182</td>\n",
       "      <td>valid</td>\n",
       "      <td>loss</td>\n",
       "      <td>DeepNet</td>\n",
       "      <td>IEMOCAP-4</td>\n",
       "      <td>True</td>\n",
       "      <td>False</td>\n",
       "    </tr>\n",
       "    <tr>\n",
       "      <th>18045</th>\n",
       "      <td>0.929249</td>\n",
       "      <td>183</td>\n",
       "      <td>valid</td>\n",
       "      <td>loss</td>\n",
       "      <td>DeepNet</td>\n",
       "      <td>IEMOCAP-4</td>\n",
       "      <td>True</td>\n",
       "      <td>False</td>\n",
       "    </tr>\n",
       "    <tr>\n",
       "      <th>18046</th>\n",
       "      <td>0.919920</td>\n",
       "      <td>184</td>\n",
       "      <td>valid</td>\n",
       "      <td>loss</td>\n",
       "      <td>DeepNet</td>\n",
       "      <td>IEMOCAP-4</td>\n",
       "      <td>True</td>\n",
       "      <td>False</td>\n",
       "    </tr>\n",
       "    <tr>\n",
       "      <th>18047</th>\n",
       "      <td>0.919458</td>\n",
       "      <td>185</td>\n",
       "      <td>valid</td>\n",
       "      <td>loss</td>\n",
       "      <td>DeepNet</td>\n",
       "      <td>IEMOCAP-4</td>\n",
       "      <td>True</td>\n",
       "      <td>False</td>\n",
       "    </tr>\n",
       "  </tbody>\n",
       "</table>\n",
       "<p>18048 rows × 8 columns</p>\n",
       "</div>"
      ],
      "text/plain": [
       "         result  epochs subset metric    model    dataset  preprocessing  \\\n",
       "0      0.513438       1  train    acc   VggNet  IEMOCAP-4           True   \n",
       "1      0.587066       2  train    acc   VggNet  IEMOCAP-4           True   \n",
       "2      0.594345       3  train    acc   VggNet  IEMOCAP-4           True   \n",
       "3      0.609183       4  train    acc   VggNet  IEMOCAP-4           True   \n",
       "4      0.611982       5  train    acc   VggNet  IEMOCAP-4           True   \n",
       "...         ...     ...    ...    ...      ...        ...            ...   \n",
       "18043  0.933324     181  valid   loss  DeepNet  IEMOCAP-4           True   \n",
       "18044  0.926249     182  valid   loss  DeepNet  IEMOCAP-4           True   \n",
       "18045  0.929249     183  valid   loss  DeepNet  IEMOCAP-4           True   \n",
       "18046  0.919920     184  valid   loss  DeepNet  IEMOCAP-4           True   \n",
       "18047  0.919458     185  valid   loss  DeepNet  IEMOCAP-4           True   \n",
       "\n",
       "       augmentation  \n",
       "0             False  \n",
       "1             False  \n",
       "2             False  \n",
       "3             False  \n",
       "4             False  \n",
       "...             ...  \n",
       "18043         False  \n",
       "18044         False  \n",
       "18045         False  \n",
       "18046         False  \n",
       "18047         False  \n",
       "\n",
       "[18048 rows x 8 columns]"
      ]
     },
     "execution_count": 29,
     "metadata": {},
     "output_type": "execute_result"
    }
   ],
   "source": [
    "df = pd.read_csv(os.path.join(RESULTS_FOLDER, 'iemocap_all_results.csv'), delimiter=';')\n",
    "df"
   ]
  },
  {
   "cell_type": "markdown",
   "metadata": {},
   "source": [
    "### Найдем результат лучшей модели (лучшей считается модель с наименьшим значением validation loss)"
   ]
  },
  {
   "cell_type": "code",
   "execution_count": 48,
   "metadata": {},
   "outputs": [
    {
     "data": {
      "text/html": [
       "<div>\n",
       "<style scoped>\n",
       "    .dataframe tbody tr th:only-of-type {\n",
       "        vertical-align: middle;\n",
       "    }\n",
       "\n",
       "    .dataframe tbody tr th {\n",
       "        vertical-align: top;\n",
       "    }\n",
       "\n",
       "    .dataframe thead th {\n",
       "        text-align: right;\n",
       "    }\n",
       "</style>\n",
       "<table border=\"1\" class=\"dataframe\">\n",
       "  <thead>\n",
       "    <tr style=\"text-align: right;\">\n",
       "      <th></th>\n",
       "      <th>result</th>\n",
       "    </tr>\n",
       "    <tr>\n",
       "      <th>model</th>\n",
       "      <th></th>\n",
       "    </tr>\n",
       "  </thead>\n",
       "  <tbody>\n",
       "    <tr>\n",
       "      <th>AlexNet</th>\n",
       "      <td>0.791347</td>\n",
       "    </tr>\n",
       "    <tr>\n",
       "      <th>VggNet</th>\n",
       "      <td>0.792008</td>\n",
       "    </tr>\n",
       "    <tr>\n",
       "      <th>VggNet-19</th>\n",
       "      <td>0.843104</td>\n",
       "    </tr>\n",
       "    <tr>\n",
       "      <th>StrideNet</th>\n",
       "      <td>0.854611</td>\n",
       "    </tr>\n",
       "    <tr>\n",
       "      <th>ResNet50</th>\n",
       "      <td>0.874697</td>\n",
       "    </tr>\n",
       "    <tr>\n",
       "      <th>DeepNet</th>\n",
       "      <td>0.891184</td>\n",
       "    </tr>\n",
       "    <tr>\n",
       "      <th>ResNet34</th>\n",
       "      <td>1.017847</td>\n",
       "    </tr>\n",
       "  </tbody>\n",
       "</table>\n",
       "</div>"
      ],
      "text/plain": [
       "             result\n",
       "model              \n",
       "AlexNet    0.791347\n",
       "VggNet     0.792008\n",
       "VggNet-19  0.843104\n",
       "StrideNet  0.854611\n",
       "ResNet50   0.874697\n",
       "DeepNet    0.891184\n",
       "ResNet34   1.017847"
      ]
     },
     "execution_count": 48,
     "metadata": {},
     "output_type": "execute_result"
    }
   ],
   "source": [
    "# Найдем лучший результат\n",
    "val_losses = df.loc[(df['metric'] == 'loss') & (df['subset'] == 'valid')]\n",
    "best_results = val_losses.groupby('model').min().sort_values('result')\n",
    "best_results.drop(best_results.columns.tolist()[1:], axis=1, inplace=True)\n",
    "best_results"
   ]
  },
  {
   "cell_type": "code",
   "execution_count": 60,
   "metadata": {},
   "outputs": [
    {
     "data": {
      "text/html": [
       "<div>\n",
       "<style scoped>\n",
       "    .dataframe tbody tr th:only-of-type {\n",
       "        vertical-align: middle;\n",
       "    }\n",
       "\n",
       "    .dataframe tbody tr th {\n",
       "        vertical-align: top;\n",
       "    }\n",
       "\n",
       "    .dataframe thead th {\n",
       "        text-align: right;\n",
       "    }\n",
       "</style>\n",
       "<table border=\"1\" class=\"dataframe\">\n",
       "  <thead>\n",
       "    <tr style=\"text-align: right;\">\n",
       "      <th></th>\n",
       "      <th>result</th>\n",
       "      <th>epochs</th>\n",
       "      <th>subset</th>\n",
       "      <th>metric</th>\n",
       "      <th>model</th>\n",
       "      <th>dataset</th>\n",
       "      <th>preprocessing</th>\n",
       "      <th>augmentation</th>\n",
       "    </tr>\n",
       "  </thead>\n",
       "  <tbody>\n",
       "    <tr>\n",
       "      <th>5499</th>\n",
       "      <td>0.791347</td>\n",
       "      <td>21</td>\n",
       "      <td>valid</td>\n",
       "      <td>loss</td>\n",
       "      <td>AlexNet</td>\n",
       "      <td>IEMOCAP-4</td>\n",
       "      <td>False</td>\n",
       "      <td>False</td>\n",
       "    </tr>\n",
       "  </tbody>\n",
       "</table>\n",
       "</div>"
      ],
      "text/plain": [
       "        result  epochs subset metric    model    dataset  preprocessing  \\\n",
       "5499  0.791347      21  valid   loss  AlexNet  IEMOCAP-4          False   \n",
       "\n",
       "      augmentation  \n",
       "5499         False  "
      ]
     },
     "metadata": {},
     "output_type": "display_data"
    },
    {
     "name": "stdout",
     "output_type": "stream",
     "text": [
      "['AlexNet']\n"
     ]
    },
    {
     "data": {
      "text/html": [
       "<div>\n",
       "<style scoped>\n",
       "    .dataframe tbody tr th:only-of-type {\n",
       "        vertical-align: middle;\n",
       "    }\n",
       "\n",
       "    .dataframe tbody tr th {\n",
       "        vertical-align: top;\n",
       "    }\n",
       "\n",
       "    .dataframe thead th {\n",
       "        text-align: right;\n",
       "    }\n",
       "</style>\n",
       "<table border=\"1\" class=\"dataframe\">\n",
       "  <thead>\n",
       "    <tr style=\"text-align: right;\">\n",
       "      <th></th>\n",
       "      <th>result</th>\n",
       "      <th>epochs</th>\n",
       "      <th>subset</th>\n",
       "      <th>metric</th>\n",
       "      <th>model</th>\n",
       "      <th>dataset</th>\n",
       "      <th>preprocessing</th>\n",
       "      <th>augmentation</th>\n",
       "    </tr>\n",
       "  </thead>\n",
       "  <tbody>\n",
       "    <tr>\n",
       "      <th>5256</th>\n",
       "      <td>0.792008</td>\n",
       "      <td>35</td>\n",
       "      <td>valid</td>\n",
       "      <td>loss</td>\n",
       "      <td>VggNet</td>\n",
       "      <td>IEMOCAP-4</td>\n",
       "      <td>False</td>\n",
       "      <td>True</td>\n",
       "    </tr>\n",
       "  </tbody>\n",
       "</table>\n",
       "</div>"
      ],
      "text/plain": [
       "        result  epochs subset metric   model    dataset  preprocessing  \\\n",
       "5256  0.792008      35  valid   loss  VggNet  IEMOCAP-4          False   \n",
       "\n",
       "      augmentation  \n",
       "5256          True  "
      ]
     },
     "metadata": {},
     "output_type": "display_data"
    },
    {
     "name": "stdout",
     "output_type": "stream",
     "text": [
      "['VggNet']\n"
     ]
    },
    {
     "data": {
      "text/html": [
       "<div>\n",
       "<style scoped>\n",
       "    .dataframe tbody tr th:only-of-type {\n",
       "        vertical-align: middle;\n",
       "    }\n",
       "\n",
       "    .dataframe tbody tr th {\n",
       "        vertical-align: top;\n",
       "    }\n",
       "\n",
       "    .dataframe thead th {\n",
       "        text-align: right;\n",
       "    }\n",
       "</style>\n",
       "<table border=\"1\" class=\"dataframe\">\n",
       "  <thead>\n",
       "    <tr style=\"text-align: right;\">\n",
       "      <th></th>\n",
       "      <th>result</th>\n",
       "      <th>epochs</th>\n",
       "      <th>subset</th>\n",
       "      <th>metric</th>\n",
       "      <th>model</th>\n",
       "      <th>dataset</th>\n",
       "      <th>preprocessing</th>\n",
       "      <th>augmentation</th>\n",
       "    </tr>\n",
       "  </thead>\n",
       "  <tbody>\n",
       "    <tr>\n",
       "      <th>3227</th>\n",
       "      <td>0.843104</td>\n",
       "      <td>19</td>\n",
       "      <td>valid</td>\n",
       "      <td>loss</td>\n",
       "      <td>VggNet-19</td>\n",
       "      <td>IEMOCAP-4</td>\n",
       "      <td>False</td>\n",
       "      <td>True</td>\n",
       "    </tr>\n",
       "  </tbody>\n",
       "</table>\n",
       "</div>"
      ],
      "text/plain": [
       "        result  epochs subset metric      model    dataset  preprocessing  \\\n",
       "3227  0.843104      19  valid   loss  VggNet-19  IEMOCAP-4          False   \n",
       "\n",
       "      augmentation  \n",
       "3227          True  "
      ]
     },
     "metadata": {},
     "output_type": "display_data"
    },
    {
     "name": "stdout",
     "output_type": "stream",
     "text": [
      "['VggNet-19']\n"
     ]
    },
    {
     "data": {
      "text/html": [
       "<div>\n",
       "<style scoped>\n",
       "    .dataframe tbody tr th:only-of-type {\n",
       "        vertical-align: middle;\n",
       "    }\n",
       "\n",
       "    .dataframe tbody tr th {\n",
       "        vertical-align: top;\n",
       "    }\n",
       "\n",
       "    .dataframe thead th {\n",
       "        text-align: right;\n",
       "    }\n",
       "</style>\n",
       "<table border=\"1\" class=\"dataframe\">\n",
       "  <thead>\n",
       "    <tr style=\"text-align: right;\">\n",
       "      <th></th>\n",
       "      <th>result</th>\n",
       "      <th>epochs</th>\n",
       "      <th>subset</th>\n",
       "      <th>metric</th>\n",
       "      <th>model</th>\n",
       "      <th>dataset</th>\n",
       "      <th>preprocessing</th>\n",
       "      <th>augmentation</th>\n",
       "    </tr>\n",
       "  </thead>\n",
       "  <tbody>\n",
       "    <tr>\n",
       "      <th>9683</th>\n",
       "      <td>0.854611</td>\n",
       "      <td>652</td>\n",
       "      <td>valid</td>\n",
       "      <td>loss</td>\n",
       "      <td>StrideNet</td>\n",
       "      <td>IEMOCAP-4</td>\n",
       "      <td>False</td>\n",
       "      <td>False</td>\n",
       "    </tr>\n",
       "  </tbody>\n",
       "</table>\n",
       "</div>"
      ],
      "text/plain": [
       "        result  epochs subset metric      model    dataset  preprocessing  \\\n",
       "9683  0.854611     652  valid   loss  StrideNet  IEMOCAP-4          False   \n",
       "\n",
       "      augmentation  \n",
       "9683         False  "
      ]
     },
     "metadata": {},
     "output_type": "display_data"
    },
    {
     "name": "stdout",
     "output_type": "stream",
     "text": [
      "['StrideNet']\n"
     ]
    },
    {
     "data": {
      "text/html": [
       "<div>\n",
       "<style scoped>\n",
       "    .dataframe tbody tr th:only-of-type {\n",
       "        vertical-align: middle;\n",
       "    }\n",
       "\n",
       "    .dataframe tbody tr th {\n",
       "        vertical-align: top;\n",
       "    }\n",
       "\n",
       "    .dataframe thead th {\n",
       "        text-align: right;\n",
       "    }\n",
       "</style>\n",
       "<table border=\"1\" class=\"dataframe\">\n",
       "  <thead>\n",
       "    <tr style=\"text-align: right;\">\n",
       "      <th></th>\n",
       "      <th>result</th>\n",
       "      <th>epochs</th>\n",
       "      <th>subset</th>\n",
       "      <th>metric</th>\n",
       "      <th>model</th>\n",
       "      <th>dataset</th>\n",
       "      <th>preprocessing</th>\n",
       "      <th>augmentation</th>\n",
       "    </tr>\n",
       "  </thead>\n",
       "  <tbody>\n",
       "    <tr>\n",
       "      <th>427</th>\n",
       "      <td>0.874697</td>\n",
       "      <td>86</td>\n",
       "      <td>valid</td>\n",
       "      <td>loss</td>\n",
       "      <td>ResNet50</td>\n",
       "      <td>IEMOCAP-4</td>\n",
       "      <td>False</td>\n",
       "      <td>True</td>\n",
       "    </tr>\n",
       "  </tbody>\n",
       "</table>\n",
       "</div>"
      ],
      "text/plain": [
       "       result  epochs subset metric     model    dataset  preprocessing  \\\n",
       "427  0.874697      86  valid   loss  ResNet50  IEMOCAP-4          False   \n",
       "\n",
       "     augmentation  \n",
       "427          True  "
      ]
     },
     "metadata": {},
     "output_type": "display_data"
    },
    {
     "name": "stdout",
     "output_type": "stream",
     "text": [
      "['ResNet50']\n"
     ]
    },
    {
     "data": {
      "text/html": [
       "<div>\n",
       "<style scoped>\n",
       "    .dataframe tbody tr th:only-of-type {\n",
       "        vertical-align: middle;\n",
       "    }\n",
       "\n",
       "    .dataframe tbody tr th {\n",
       "        vertical-align: top;\n",
       "    }\n",
       "\n",
       "    .dataframe thead th {\n",
       "        text-align: right;\n",
       "    }\n",
       "</style>\n",
       "<table border=\"1\" class=\"dataframe\">\n",
       "  <thead>\n",
       "    <tr style=\"text-align: right;\">\n",
       "      <th></th>\n",
       "      <th>result</th>\n",
       "      <th>epochs</th>\n",
       "      <th>subset</th>\n",
       "      <th>metric</th>\n",
       "      <th>model</th>\n",
       "      <th>dataset</th>\n",
       "      <th>preprocessing</th>\n",
       "      <th>augmentation</th>\n",
       "    </tr>\n",
       "  </thead>\n",
       "  <tbody>\n",
       "    <tr>\n",
       "      <th>10174</th>\n",
       "      <td>0.891184</td>\n",
       "      <td>40</td>\n",
       "      <td>valid</td>\n",
       "      <td>loss</td>\n",
       "      <td>DeepNet</td>\n",
       "      <td>IEMOCAP-4</td>\n",
       "      <td>False</td>\n",
       "      <td>False</td>\n",
       "    </tr>\n",
       "  </tbody>\n",
       "</table>\n",
       "</div>"
      ],
      "text/plain": [
       "         result  epochs subset metric    model    dataset  preprocessing  \\\n",
       "10174  0.891184      40  valid   loss  DeepNet  IEMOCAP-4          False   \n",
       "\n",
       "       augmentation  \n",
       "10174         False  "
      ]
     },
     "metadata": {},
     "output_type": "display_data"
    },
    {
     "name": "stdout",
     "output_type": "stream",
     "text": [
      "['DeepNet']\n"
     ]
    },
    {
     "data": {
      "text/html": [
       "<div>\n",
       "<style scoped>\n",
       "    .dataframe tbody tr th:only-of-type {\n",
       "        vertical-align: middle;\n",
       "    }\n",
       "\n",
       "    .dataframe tbody tr th {\n",
       "        vertical-align: top;\n",
       "    }\n",
       "\n",
       "    .dataframe thead th {\n",
       "        text-align: right;\n",
       "    }\n",
       "</style>\n",
       "<table border=\"1\" class=\"dataframe\">\n",
       "  <thead>\n",
       "    <tr style=\"text-align: right;\">\n",
       "      <th></th>\n",
       "      <th>result</th>\n",
       "      <th>epochs</th>\n",
       "      <th>subset</th>\n",
       "      <th>metric</th>\n",
       "      <th>model</th>\n",
       "      <th>dataset</th>\n",
       "      <th>preprocessing</th>\n",
       "      <th>augmentation</th>\n",
       "    </tr>\n",
       "  </thead>\n",
       "  <tbody>\n",
       "    <tr>\n",
       "      <th>83</th>\n",
       "      <td>1.017847</td>\n",
       "      <td>2</td>\n",
       "      <td>valid</td>\n",
       "      <td>loss</td>\n",
       "      <td>ResNet34</td>\n",
       "      <td>IEMOCAP-4</td>\n",
       "      <td>False</td>\n",
       "      <td>True</td>\n",
       "    </tr>\n",
       "  </tbody>\n",
       "</table>\n",
       "</div>"
      ],
      "text/plain": [
       "      result  epochs subset metric     model    dataset  preprocessing  \\\n",
       "83  1.017847       2  valid   loss  ResNet34  IEMOCAP-4          False   \n",
       "\n",
       "    augmentation  \n",
       "83          True  "
      ]
     },
     "metadata": {},
     "output_type": "display_data"
    },
    {
     "name": "stdout",
     "output_type": "stream",
     "text": [
      "['ResNet34']\n"
     ]
    }
   ],
   "source": [
    "for result in best_results.result.tolist():\n",
    "    _df = df.loc[df['result'] == result]\n",
    "    display(_df)\n",
    "    print(_df.model.values)"
   ]
  },
  {
   "cell_type": "markdown",
   "metadata": {},
   "source": [
    "### Итак, лучший результат показала AlexNet без препроцессинга и аугментации (зачем вообще стоило стараться?) <br> \n",
    "#### Ладно, построим графики обучения этой модели для приличия что ли "
   ]
  },
  {
   "cell_type": "code",
   "execution_count": 65,
   "metadata": {},
   "outputs": [
    {
     "data": {
      "text/html": [
       "<div>\n",
       "<style scoped>\n",
       "    .dataframe tbody tr th:only-of-type {\n",
       "        vertical-align: middle;\n",
       "    }\n",
       "\n",
       "    .dataframe tbody tr th {\n",
       "        vertical-align: top;\n",
       "    }\n",
       "\n",
       "    .dataframe thead th {\n",
       "        text-align: right;\n",
       "    }\n",
       "</style>\n",
       "<table border=\"1\" class=\"dataframe\">\n",
       "  <thead>\n",
       "    <tr style=\"text-align: right;\">\n",
       "      <th></th>\n",
       "      <th>result</th>\n",
       "      <th>epochs</th>\n",
       "      <th>subset</th>\n",
       "      <th>metric</th>\n",
       "      <th>model</th>\n",
       "      <th>dataset</th>\n",
       "      <th>preprocessing</th>\n",
       "      <th>augmentation</th>\n",
       "    </tr>\n",
       "  </thead>\n",
       "  <tbody>\n",
       "    <tr>\n",
       "      <th>5436</th>\n",
       "      <td>0.730683</td>\n",
       "      <td>21</td>\n",
       "      <td>train</td>\n",
       "      <td>acc</td>\n",
       "      <td>AlexNet</td>\n",
       "      <td>IEMOCAP-4</td>\n",
       "      <td>False</td>\n",
       "      <td>False</td>\n",
       "    </tr>\n",
       "    <tr>\n",
       "      <th>5457</th>\n",
       "      <td>0.686450</td>\n",
       "      <td>21</td>\n",
       "      <td>valid</td>\n",
       "      <td>acc</td>\n",
       "      <td>AlexNet</td>\n",
       "      <td>IEMOCAP-4</td>\n",
       "      <td>False</td>\n",
       "      <td>False</td>\n",
       "    </tr>\n",
       "    <tr>\n",
       "      <th>5478</th>\n",
       "      <td>0.679132</td>\n",
       "      <td>21</td>\n",
       "      <td>train</td>\n",
       "      <td>loss</td>\n",
       "      <td>AlexNet</td>\n",
       "      <td>IEMOCAP-4</td>\n",
       "      <td>False</td>\n",
       "      <td>False</td>\n",
       "    </tr>\n",
       "    <tr>\n",
       "      <th>5499</th>\n",
       "      <td>0.791347</td>\n",
       "      <td>21</td>\n",
       "      <td>valid</td>\n",
       "      <td>loss</td>\n",
       "      <td>AlexNet</td>\n",
       "      <td>IEMOCAP-4</td>\n",
       "      <td>False</td>\n",
       "      <td>False</td>\n",
       "    </tr>\n",
       "  </tbody>\n",
       "</table>\n",
       "</div>"
      ],
      "text/plain": [
       "        result  epochs subset metric    model    dataset  preprocessing  \\\n",
       "5436  0.730683      21  train    acc  AlexNet  IEMOCAP-4          False   \n",
       "5457  0.686450      21  valid    acc  AlexNet  IEMOCAP-4          False   \n",
       "5478  0.679132      21  train   loss  AlexNet  IEMOCAP-4          False   \n",
       "5499  0.791347      21  valid   loss  AlexNet  IEMOCAP-4          False   \n",
       "\n",
       "      augmentation  \n",
       "5436         False  \n",
       "5457         False  \n",
       "5478         False  \n",
       "5499         False  "
      ]
     },
     "execution_count": 65,
     "metadata": {},
     "output_type": "execute_result"
    }
   ],
   "source": [
    "alex_results = df.loc[(df['model'] == 'AlexNet') & (df['preprocessing'] == False) & (df['augmentation'] == False) ]\n",
    "alex_results.loc[alex_results['epochs'] == 21]"
   ]
  },
  {
   "cell_type": "code",
   "execution_count": 64,
   "metadata": {},
   "outputs": [
    {
     "data": {
      "text/plain": [
       "<seaborn.axisgrid.FacetGrid at 0x22d2491e588>"
      ]
     },
     "execution_count": 64,
     "metadata": {},
     "output_type": "execute_result"
    },
    {
     "data": {
      "image/png": "[encoded data removed]",
      "text/plain": [
       "<Figure size 789.125x360 with 2 Axes>"
      ]
     },
     "metadata": {
      "needs_background": "light"
     },
     "output_type": "display_data"
    }
   ],
   "source": [
    "sns.relplot(x='epochs', y='result', hue='subset', size=None, style=None, \n",
    "            data=alex_results, col='metric', palette='husl',\n",
    "            kind='line', height=5, aspect=1, markers=True,\n",
    "            facet_kws={\n",
    "                'sharey': False\n",
    "            })"
   ]
  },
  {
   "cell_type": "markdown",
   "metadata": {},
   "source": [
    "### На втором месте с практически идентичным validation loss - Vgg-11 с батч-нормализацией, без препроцессинга и с аугментацией. \n",
    "#### Взглянем на эту модель тоже."
   ]
  },
  {
   "cell_type": "code",
   "execution_count": 66,
   "metadata": {},
   "outputs": [
    {
     "data": {
      "text/html": [
       "<div>\n",
       "<style scoped>\n",
       "    .dataframe tbody tr th:only-of-type {\n",
       "        vertical-align: middle;\n",
       "    }\n",
       "\n",
       "    .dataframe tbody tr th {\n",
       "        vertical-align: top;\n",
       "    }\n",
       "\n",
       "    .dataframe thead th {\n",
       "        text-align: right;\n",
       "    }\n",
       "</style>\n",
       "<table border=\"1\" class=\"dataframe\">\n",
       "  <thead>\n",
       "    <tr style=\"text-align: right;\">\n",
       "      <th></th>\n",
       "      <th>result</th>\n",
       "      <th>epochs</th>\n",
       "      <th>subset</th>\n",
       "      <th>metric</th>\n",
       "      <th>model</th>\n",
       "      <th>dataset</th>\n",
       "      <th>preprocessing</th>\n",
       "      <th>augmentation</th>\n",
       "    </tr>\n",
       "  </thead>\n",
       "  <tbody>\n",
       "    <tr>\n",
       "      <th>4674</th>\n",
       "      <td>0.733763</td>\n",
       "      <td>35</td>\n",
       "      <td>train</td>\n",
       "      <td>acc</td>\n",
       "      <td>VggNet</td>\n",
       "      <td>IEMOCAP-4</td>\n",
       "      <td>False</td>\n",
       "      <td>True</td>\n",
       "    </tr>\n",
       "    <tr>\n",
       "      <th>4868</th>\n",
       "      <td>0.683091</td>\n",
       "      <td>35</td>\n",
       "      <td>valid</td>\n",
       "      <td>acc</td>\n",
       "      <td>VggNet</td>\n",
       "      <td>IEMOCAP-4</td>\n",
       "      <td>False</td>\n",
       "      <td>True</td>\n",
       "    </tr>\n",
       "    <tr>\n",
       "      <th>5062</th>\n",
       "      <td>0.686269</td>\n",
       "      <td>35</td>\n",
       "      <td>train</td>\n",
       "      <td>loss</td>\n",
       "      <td>VggNet</td>\n",
       "      <td>IEMOCAP-4</td>\n",
       "      <td>False</td>\n",
       "      <td>True</td>\n",
       "    </tr>\n",
       "    <tr>\n",
       "      <th>5256</th>\n",
       "      <td>0.792008</td>\n",
       "      <td>35</td>\n",
       "      <td>valid</td>\n",
       "      <td>loss</td>\n",
       "      <td>VggNet</td>\n",
       "      <td>IEMOCAP-4</td>\n",
       "      <td>False</td>\n",
       "      <td>True</td>\n",
       "    </tr>\n",
       "  </tbody>\n",
       "</table>\n",
       "</div>"
      ],
      "text/plain": [
       "        result  epochs subset metric   model    dataset  preprocessing  \\\n",
       "4674  0.733763      35  train    acc  VggNet  IEMOCAP-4          False   \n",
       "4868  0.683091      35  valid    acc  VggNet  IEMOCAP-4          False   \n",
       "5062  0.686269      35  train   loss  VggNet  IEMOCAP-4          False   \n",
       "5256  0.792008      35  valid   loss  VggNet  IEMOCAP-4          False   \n",
       "\n",
       "      augmentation  \n",
       "4674          True  \n",
       "4868          True  \n",
       "5062          True  \n",
       "5256          True  "
      ]
     },
     "execution_count": 66,
     "metadata": {},
     "output_type": "execute_result"
    }
   ],
   "source": [
    "vgg_results = df.loc[(df['model'] == 'VggNet') & (df['preprocessing'] == False) & (df['augmentation'] == True)]\n",
    "vgg_results.loc[vgg_results['epochs'] == 35]"
   ]
  },
  {
   "cell_type": "code",
   "execution_count": 67,
   "metadata": {},
   "outputs": [
    {
     "data": {
      "text/plain": [
       "<seaborn.axisgrid.FacetGrid at 0x22d28a6b388>"
      ]
     },
     "execution_count": 67,
     "metadata": {},
     "output_type": "execute_result"
    },
    {
     "data": {
      "image/png": "[encoded data removed]",
      "text/plain": [
       "<Figure size 789.125x360 with 2 Axes>"
      ]
     },
     "metadata": {
      "needs_background": "light"
     },
     "output_type": "display_data"
    }
   ],
   "source": [
    "sns.relplot(x='epochs', y='result', hue='subset', size=None, style=None, \n",
    "            data=vgg_results, col='metric', palette='husl',\n",
    "            kind='line', height=5, aspect=1, markers=True,\n",
    "            facet_kws={\n",
    "                'sharey': False\n",
    "            })"
   ]
  },
  {
   "cell_type": "markdown",
   "metadata": {},
   "source": [
    "# Выводы."
   ]
  },
  {
   "cell_type": "markdown",
   "metadata": {},
   "source": [
    "Препроцессинг себя показал абсолютно никак, видно, что модели лучше справляются без него. Эффективность аугментации так же под вопросом.<br>\n",
    "Наилучшие показатели в однозадачном обучении - у AlexNet и VggNet-11 c батч-нормализацией. <br>\n",
    "Повторить результаты моделей DeepNet и StrideNet, описанные в соответствующих статьях - не удалось."
   ]
  },
  {
   "cell_type": "code",
   "execution_count": null,
   "metadata": {},
   "outputs": [],
   "source": []
  }
 ],
 "metadata": {
  "kernelspec": {
   "display_name": "Python 3",
   "language": "python",
   "name": "python3"
  },
  "language_info": {
   "codemirror_mode": {
    "name": "ipython",
    "version": 3
   },
   "file_extension": ".py",
   "mimetype": "text/x-python",
   "name": "python",
   "nbconvert_exporter": "python",
   "pygments_lexer": "ipython3",
   "version": "3.7.6"
  }
 },
 "nbformat": 4,
 "nbformat_minor": 1
}
