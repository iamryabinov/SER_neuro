{
 "cells": [
  {
   "cell_type": "code",
   "execution_count": null,
   "metadata": {},
   "outputs": [],
   "source": [
    "from models.models_one_task_egemaps import AlexNetEgemaps\n",
    "from  datasets.iemocap import IemocapDataset, train_test_loaders\n",
    "from constants import *\n",
    "from torchsummary import summary\n",
    "import torch\n",
    "import torch.nn as nn\n",
    "import skorch\n",
    "from skorch.helper import predefined_split\n",
    "from skorch.dataset import Dataset\n",
    "from skorch.classifier import NeuralNetClassifier\n",
    "import skorch.callbacks as callbacks\n",
    "import numpy as np\n",
    "import matplotlib.pyplot as plt\n",
    "import os\n",
    "import pickle"
   ]
  },
  {
   "cell_type": "code",
   "execution_count": null,
   "metadata": {},
   "outputs": [],
   "source": [
    "model = AlexNetEgemaps(num_classes=4)\n",
    "device = torch.device(\"cpu\") \n",
    "model = model.to(device)\n",
    "print(model)\n",
    "random_spec = torch.rand(1, 224, 224)\n",
    "print(random_spec.shape)\n",
    "random_spec = random_spec.unsqueeze(0)\n",
    "print(random_spec.shape)\n",
    "random_egemaps = torch.rand(88)\n",
    "print(random_egemaps.shape)\n",
    "random_egemaps = random_egemaps.unsqueeze(0)\n",
    "print(random_egemaps.shape)\n",
    "model(random_spec, random_egemaps)"
   ]
  },
  {
   "cell_type": "code",
   "execution_count": null,
   "metadata": {},
   "outputs": [],
   "source": [
    "train_ds = IemocapDataset(  # Без препроцессинга, тренировочный\n",
    "    PATH_TO_PICKLE, IEMOCAP_PATH_TO_WAVS, IEMOCAP_PATH_TO_EGEMAPS, IEMOCAP_PATH_FOR_PARSER, \n",
    "    base_name='IEMOCAP-4', label_type='four', mode='test', preprocessing=False, \n",
    "    augmentation=True, padding='repeat', spectrogram_shape=224, spectrogram_type='melspec', tasks='emotion', egemaps=True \n",
    ")"
   ]
  },
  {
   "cell_type": "code",
   "execution_count": null,
   "metadata": {},
   "outputs": [],
   "source": [
    "train_ds.mode='train'"
   ]
  },
  {
   "cell_type": "code",
   "execution_count": null,
   "metadata": {},
   "outputs": [],
   "source": [
    "device = torch.device(\"cuda\" if torch.cuda.is_available() else \"cpu\") \n",
    "callback_train_acc = callbacks.EpochScoring(scoring=\"accuracy\", \n",
    "                                            lower_is_better=True, \n",
    "                                            on_train=True, \n",
    "                                            name='train_acc')\n",
    "net = skorch.classifier.NeuralNetClassifier(\n",
    "    model, criterion=nn.CrossEntropyLoss, optimizer=torch.optim.Adam,\n",
    "    lr=0.001, max_epochs=100, batch_size=32, train_split=None, \n",
    "    device=device, iterator_train__shuffle=True, callbacks=[callback_train_acc]\n",
    ")"
   ]
  },
  {
   "cell_type": "code",
   "execution_count": null,
   "metadata": {},
   "outputs": [],
   "source": [
    "net.fit(train_ds, None)"
   ]
  },
  {
   "cell_type": "code",
   "execution_count": null,
   "metadata": {},
   "outputs": [],
   "source": []
  }
 ],
 "metadata": {
  "kernelspec": {
   "display_name": "PyCharm (NumPyPractice)",
   "language": "python",
   "name": "pycharm-bcc84cbd"
  },
  "language_info": {
   "codemirror_mode": {
    "name": "ipython",
    "version": 3
   },
   "file_extension": ".py",
   "mimetype": "text/x-python",
   "name": "python",
   "nbconvert_exporter": "python",
   "pygments_lexer": "ipython3",
   "version": "3.7.6"
  }
 },
 "nbformat": 4,
 "nbformat_minor": 4
}
