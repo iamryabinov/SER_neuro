{
 "cells": [
  {
   "cell_type": "code",
   "execution_count": 1,
   "metadata": {},
   "outputs": [],
   "source": [
    "import models.models as md\n",
    "import datasets.datasets as ds\n",
    "from constants import *\n",
    "from torchsummary import summary\n",
    "import torch\n",
    "import torch.nn as nn\n",
    "import skorch\n",
    "from skorch.helper import predefined_split"
   ]
  },
  {
   "cell_type": "markdown",
   "metadata": {},
   "source": [
    "# Модуль models "
   ]
  },
  {
   "cell_type": "markdown",
   "metadata": {},
   "source": [
    "Модуль models на данный момент содержит PyTorch имплементацию следующих моделей:"
   ]
  },
  {
   "cell_type": "markdown",
   "metadata": {},
   "source": [
    "## AlexNet"
   ]
  },
  {
   "cell_type": "markdown",
   "metadata": {},
   "source": [
    "[Alex Krizhevsky, Ilya Sutskever, and Geoffrey E. Hinton. 2017. ImageNet classification with deep convolutional neural networks. <i>Commun. ACM</i> 60, 6 (June 2017), 84–90. DOI:https://doi.org/10.1145/3065386]"
   ]
  },
  {
   "cell_type": "markdown",
   "metadata": {},
   "source": [
    "Архитектура немного переделана, чтобы соответствовать нашей специфике:<br>\n",
    "1. Количество входных каналов первого сверточного слоя уменьшено с 3 до 1\n",
    "2. Изменён последний свёрточный слой, его ядро увеличено с (3, 3) до (4, 4)\n",
    "3. Изменён слой AdaptiveAvgPool2d с (6, 6) до (5, 5)\n",
    "4. Изменён классификатор, теперь это четыре полносвязных слоя: 6400, 2048, 512, 512, <число классов>\n",
    "5. Добавлен Dropout() после первого полносвязного слоя"
   ]
  },
  {
   "cell_type": "code",
   "execution_count": 2,
   "metadata": {},
   "outputs": [
    {
     "name": "stdout",
     "output_type": "stream",
     "text": [
      "AlexNet(\n",
      "  (features): Sequential(\n",
      "    (0): Conv2d(1, 64, kernel_size=(11, 11), stride=(4, 4), padding=(2, 2))\n",
      "    (1): ReLU(inplace=True)\n",
      "    (2): MaxPool2d(kernel_size=3, stride=2, padding=0, dilation=1, ceil_mode=False)\n",
      "    (3): Conv2d(64, 192, kernel_size=(5, 5), stride=(1, 1), padding=(2, 2))\n",
      "    (4): ReLU(inplace=True)\n",
      "    (5): MaxPool2d(kernel_size=3, stride=2, padding=0, dilation=1, ceil_mode=False)\n",
      "    (6): Conv2d(192, 384, kernel_size=(3, 3), stride=(1, 1), padding=(1, 1))\n",
      "    (7): ReLU(inplace=True)\n",
      "    (8): Conv2d(384, 256, kernel_size=(3, 3), stride=(1, 1), padding=(1, 1))\n",
      "    (9): ReLU(inplace=True)\n",
      "    (10): Conv2d(256, 256, kernel_size=(4, 4), stride=(1, 1), padding=(1, 1))\n",
      "    (11): ReLU(inplace=True)\n",
      "    (12): MaxPool2d(kernel_size=3, stride=2, padding=0, dilation=1, ceil_mode=False)\n",
      "  )\n",
      "  (avgpool): AdaptiveAvgPool2d(output_size=(5, 5))\n",
      "  (classifier): Sequential(\n",
      "    (0): Dropout(p=0.5, inplace=False)\n",
      "    (1): Linear(in_features=6400, out_features=2048, bias=True)\n",
      "    (2): ReLU(inplace=True)\n",
      "    (3): Dropout(p=0.5, inplace=False)\n",
      "    (4): Linear(in_features=2048, out_features=512, bias=True)\n",
      "    (5): ReLU(inplace=True)\n",
      "    (6): Linear(in_features=512, out_features=512, bias=True)\n",
      "    (7): ReLU(inplace=True)\n",
      "    (8): Linear(in_features=512, out_features=4, bias=True)\n",
      "  )\n",
      ")\n",
      "----------------------------------------------------------------\n",
      "        Layer (type)               Output Shape         Param #\n",
      "================================================================\n",
      "            Conv2d-1           [-1, 64, 55, 55]           7,808\n",
      "              ReLU-2           [-1, 64, 55, 55]               0\n",
      "         MaxPool2d-3           [-1, 64, 27, 27]               0\n",
      "            Conv2d-4          [-1, 192, 27, 27]         307,392\n",
      "              ReLU-5          [-1, 192, 27, 27]               0\n",
      "         MaxPool2d-6          [-1, 192, 13, 13]               0\n",
      "            Conv2d-7          [-1, 384, 13, 13]         663,936\n",
      "              ReLU-8          [-1, 384, 13, 13]               0\n",
      "            Conv2d-9          [-1, 256, 13, 13]         884,992\n",
      "             ReLU-10          [-1, 256, 13, 13]               0\n",
      "           Conv2d-11          [-1, 256, 12, 12]       1,048,832\n",
      "             ReLU-12          [-1, 256, 12, 12]               0\n",
      "        MaxPool2d-13            [-1, 256, 5, 5]               0\n",
      "          Dropout-14                 [-1, 6400]               0\n",
      "           Linear-15                 [-1, 2048]      13,109,248\n",
      "             ReLU-16                 [-1, 2048]               0\n",
      "          Dropout-17                 [-1, 2048]               0\n",
      "           Linear-18                  [-1, 512]       1,049,088\n",
      "             ReLU-19                  [-1, 512]               0\n",
      "           Linear-20                  [-1, 512]         262,656\n",
      "             ReLU-21                  [-1, 512]               0\n",
      "           Linear-22                    [-1, 4]           2,052\n",
      "================================================================\n",
      "Total params: 17,336,004\n",
      "Trainable params: 17,336,004\n",
      "Non-trainable params: 0\n",
      "----------------------------------------------------------------\n",
      "Input size (MB): 0.19\n",
      "Forward/backward pass size (MB): 8.07\n",
      "Params size (MB): 66.13\n",
      "Estimated Total Size (MB): 74.39\n",
      "----------------------------------------------------------------\n"
     ]
    }
   ],
   "source": [
    "model = md.alexnet(num_classes=4)\n",
    "# device = torch.device(\"cuda\" if torch.cuda.is_available() else \"cpu\") # PyTorch v0.4.0\n",
    "device = torch.device('cpu')\n",
    "model = model.to(device)\n",
    "print(model)\n",
    "summary(model, (1, 224, 224), device='cpu')"
   ]
  },
  {
   "cell_type": "code",
   "execution_count": 3,
   "metadata": {},
   "outputs": [
    {
     "name": "stdout",
     "output_type": "stream",
     "text": [
      "============= INITIALIZING DATASET IEMOCAP_four_prep-false_train ===============\n",
      "=========================== SUCCESS! ====================================\n",
      "============= INITIALIZING DATASET IEMOCAP_four_prep-false_test ===============\n",
      "=========================== SUCCESS! ====================================\n"
     ]
    }
   ],
   "source": [
    "iemocap_train = ds.IemocapDataset(\n",
    "    PATH_TO_PICKLE, IEMOCAP_PATH_TO_WAVS, IEMOCAP_PATH_TO_EGEMAPS, IEMOCAP_PATH_FOR_PARSER,\n",
    "    base_name='IEMOCAP', label_type='four', spectrogram_shape=224, preprocessing=False, \n",
    "    augmentation=False, padding='repeat', mode='train', tasks=['emotion']\n",
    ")\n",
    "iemocap_test = ds.IemocapDataset(\n",
    "    PATH_TO_PICKLE, IEMOCAP_PATH_TO_WAVS, IEMOCAP_PATH_TO_EGEMAPS, IEMOCAP_PATH_FOR_PARSER,\n",
    "    base_name='IEMOCAP', label_type='four', spectrogram_shape=224, preprocessing=False, \n",
    "    augmentation=False, padding='repeat', mode='test', tasks=['emotion']\n",
    ")\n",
    "y = [y for X, y in iter(iemocap_train)]\n",
    "# print(len(set(y)))"
   ]
  },
  {
   "cell_type": "code",
   "execution_count": 4,
   "metadata": {},
   "outputs": [],
   "source": [
    "model = md.alexnet(num_classes=4)\n",
    "net = skorch.net.NeuralNet(\n",
    "    model, criterion=nn.CrossEntropyLoss, optimizer=torch.optim.Adam, dataset=iemocap_train,\n",
    "    lr=0.01, max_epochs=10, batch_size=128, train_split=predefined_split(iemocap_test), \n",
    "    callbacks=None, verbose=1, device=device\n",
    ")"
   ]
  },
  {
   "cell_type": "code",
   "execution_count": null,
   "metadata": {},
   "outputs": [],
   "source": [
    "data, target = iemocap_test[0]\n",
    "print(target)"
   ]
  },
  {
   "cell_type": "code",
   "execution_count": null,
   "metadata": {},
   "outputs": [],
   "source": [
    "print(data.shape)"
   ]
  },
  {
   "cell_type": "code",
   "execution_count": null,
   "metadata": {},
   "outputs": [],
   "source": [
    "net.fit(iemocap_train)"
   ]
  },
  {
   "cell_type": "code",
   "execution_count": null,
   "metadata": {},
   "outputs": [],
   "source": []
  }
 ],
 "metadata": {
  "kernelspec": {
   "display_name": "Python 3",
   "language": "python",
   "name": "python3"
  },
  "language_info": {
   "codemirror_mode": {
    "name": "ipython",
    "version": 3
   },
   "file_extension": ".py",
   "mimetype": "text/x-python",
   "name": "python",
   "nbconvert_exporter": "python",
   "pygments_lexer": "ipython3",
   "version": "3.8.3"
  }
 },
 "nbformat": 4,
 "nbformat_minor": 4
}
