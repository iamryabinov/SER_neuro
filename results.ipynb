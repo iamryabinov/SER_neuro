{
 "cells": [
  {
   "cell_type": "code",
   "execution_count": 13,
   "metadata": {},
   "outputs": [],
   "source": [
    "import models.models_multi_task as md_multi\n",
    "from models.multitask_training_session import *\n",
    "from datasets.iemocap import IemocapDataset\n",
    "from datasets.ramas import RamasDataset\n",
    "from constants import *\n",
    "from torchsummary import summary\n",
    "import torch\n",
    "import torch.nn as nn\n",
    "import numpy as np\n",
    "import matplotlib.pyplot as plt\n",
    "import os\n",
    "import pickle\n",
    "import pandas as pd \n",
    "from torch.utils.data import DataLoader\n",
    "\n",
    "from sklearn.metrics import accuracy_score, f1_score, precision_score, recall_score, classification_report"
   ]
  },
  {
   "cell_type": "markdown",
   "metadata": {},
   "source": [
    "# МНОГОЗАДАЧНАЯ МОДЕЛЬ, БИНАРНЫЙ РАМАС"
   ]
  },
  {
   "cell_type": "code",
   "execution_count": 14,
   "metadata": {},
   "outputs": [
    {
     "data": {
      "text/plain": [
       "VGG(\n",
       "  (features): Sequential(\n",
       "    (0): Conv2d(1, 64, kernel_size=(3, 3), stride=(1, 1), padding=(1, 1))\n",
       "    (1): BatchNorm2d(64, eps=1e-05, momentum=0.1, affine=True, track_running_stats=True)\n",
       "    (2): ReLU(inplace=True)\n",
       "    (3): MaxPool2d(kernel_size=2, stride=2, padding=0, dilation=1, ceil_mode=False)\n",
       "    (4): Conv2d(64, 128, kernel_size=(3, 3), stride=(1, 1), padding=(1, 1))\n",
       "    (5): BatchNorm2d(128, eps=1e-05, momentum=0.1, affine=True, track_running_stats=True)\n",
       "    (6): ReLU(inplace=True)\n",
       "    (7): MaxPool2d(kernel_size=2, stride=2, padding=0, dilation=1, ceil_mode=False)\n",
       "    (8): Conv2d(128, 256, kernel_size=(3, 3), stride=(1, 1), padding=(1, 1))\n",
       "    (9): BatchNorm2d(256, eps=1e-05, momentum=0.1, affine=True, track_running_stats=True)\n",
       "    (10): ReLU(inplace=True)\n",
       "    (11): Conv2d(256, 256, kernel_size=(3, 3), stride=(1, 1), padding=(1, 1))\n",
       "    (12): BatchNorm2d(256, eps=1e-05, momentum=0.1, affine=True, track_running_stats=True)\n",
       "    (13): ReLU(inplace=True)\n",
       "    (14): MaxPool2d(kernel_size=2, stride=2, padding=0, dilation=1, ceil_mode=False)\n",
       "    (15): Conv2d(256, 512, kernel_size=(3, 3), stride=(1, 1), padding=(1, 1))\n",
       "    (16): BatchNorm2d(512, eps=1e-05, momentum=0.1, affine=True, track_running_stats=True)\n",
       "    (17): ReLU(inplace=True)\n",
       "    (18): Conv2d(512, 512, kernel_size=(3, 3), stride=(1, 1), padding=(1, 1))\n",
       "    (19): BatchNorm2d(512, eps=1e-05, momentum=0.1, affine=True, track_running_stats=True)\n",
       "    (20): ReLU(inplace=True)\n",
       "    (21): MaxPool2d(kernel_size=2, stride=2, padding=0, dilation=1, ceil_mode=False)\n",
       "    (22): Conv2d(512, 512, kernel_size=(3, 3), stride=(1, 1), padding=(1, 1))\n",
       "    (23): BatchNorm2d(512, eps=1e-05, momentum=0.1, affine=True, track_running_stats=True)\n",
       "    (24): ReLU(inplace=True)\n",
       "    (25): Conv2d(512, 512, kernel_size=(3, 3), stride=(1, 1), padding=(1, 1))\n",
       "    (26): BatchNorm2d(512, eps=1e-05, momentum=0.1, affine=True, track_running_stats=True)\n",
       "    (27): ReLU(inplace=True)\n",
       "    (28): MaxPool2d(kernel_size=2, stride=2, padding=0, dilation=1, ceil_mode=False)\n",
       "  )\n",
       "  (avgpool): AdaptiveAvgPool2d(output_size=(7, 7))\n",
       "  (joint_classifier): Sequential(\n",
       "    (0): Linear(in_features=25088, out_features=2048, bias=True)\n",
       "    (1): Dropout(p=0.5, inplace=False)\n",
       "    (2): ReLU(inplace=True)\n",
       "  )\n",
       "  (classifier_emotion): Sequential(\n",
       "    (0): Linear(in_features=2048, out_features=512, bias=True)\n",
       "    (1): ReLU(inplace=True)\n",
       "    (2): Linear(in_features=512, out_features=2, bias=True)\n",
       "  )\n",
       "  (classifier_speaker): Sequential(\n",
       "    (0): Linear(in_features=2048, out_features=512, bias=True)\n",
       "    (1): ReLU(inplace=True)\n",
       "    (2): Linear(in_features=512, out_features=12, bias=True)\n",
       "  )\n",
       "  (classifier_gender): Sequential(\n",
       "    (0): Linear(in_features=2048, out_features=512, bias=True)\n",
       "    (1): ReLU(inplace=True)\n",
       "    (2): Linear(in_features=512, out_features=2, bias=True)\n",
       "  )\n",
       ")"
      ]
     },
     "execution_count": 14,
     "metadata": {},
     "output_type": "execute_result"
    }
   ],
   "source": [
    "a = torch.load('models/best_models/VGGAverageWeighting__Ramas224BinaryMultiNormal_224_train__best_model.pt')\n",
    "state_dict = a['state_dict']\n",
    "model = md_multi.vgg(num_emotions=2, num_speakers=12, num_genders=2, type=11, bn=True)\n",
    "model.load_state_dict(state_dict=state_dict)\n",
    "device = torch.device('cuda')\n",
    "model.to(device)"
   ]
  },
  {
   "cell_type": "code",
   "execution_count": 15,
   "metadata": {
    "scrolled": true
   },
   "outputs": [
    {
     "name": "stdout",
     "output_type": "stream",
     "text": [
      "============= INITIALIZING DATASET Ramas224BinaryMulti_224_test ===============\n",
      "============================ SUCCESS! =========================\n"
     ]
    }
   ],
   "source": [
    "ramas_224_test = RamasDataset(RAMAS_PATH_TO_WAVS_BINARY, 'Ramas224BinaryMulti',\n",
    "                 spectrogram_shape=224,\n",
    "                 augmentation=False, padding='repeat', mode='test',  tasks='multi', type='binary')"
   ]
  },
  {
   "cell_type": "code",
   "execution_count": 16,
   "metadata": {},
   "outputs": [],
   "source": [
    "testloader = DataLoader(ramas_224_test, batch_size=1, shuffle=True, num_workers=4)"
   ]
  },
  {
   "cell_type": "code",
   "execution_count": 17,
   "metadata": {},
   "outputs": [],
   "source": [
    "def get_predictions_multi(model, testloader, device):\n",
    "    predictions = {\n",
    "        'e_true': [],\n",
    "        'e_pred': [],\n",
    "        's_true': [],\n",
    "        's_pred': [],\n",
    "        'g_true': [],\n",
    "        'g_pred': [],\n",
    "    }\n",
    "    dataset_size = len(testloader.dataset)\n",
    "    model.eval()\n",
    "    for i, (data, target) in enumerate(testloader):\n",
    "        data = data.to(device)\n",
    "        target_emotion, target_speaker, target_gender = target\n",
    "        target_emotion = np.asscalar(target_emotion.numpy()[0])\n",
    "        target_speaker = np.asscalar(target_speaker.numpy()[0])\n",
    "        target_gender = np.asscalar(target_gender.numpy()[0]) \n",
    "        predictions['e_true'].append(target_emotion)\n",
    "        predictions['s_true'].append(target_speaker)\n",
    "        predictions['g_true'].append(target_gender)\n",
    "        with torch.no_grad():\n",
    "            predicted_emotion, predicted_speaker, predicted_gender = model(data)\n",
    "        _, pred_labels_emotion = torch.max(predicted_emotion.data, 1)\n",
    "        _, pred_labels_speaker = torch.max(predicted_speaker.data, 1)\n",
    "        _, pred_labels_gender = torch.max(predicted_gender.data, 1)\n",
    "        pred_labels_emotion = np.asscalar(pred_labels_emotion.cpu().numpy()[0])\n",
    "        pred_labels_speaker = np.asscalar(pred_labels_speaker.cpu().numpy()[0])\n",
    "        pred_labels_gender = np.asscalar(pred_labels_gender.cpu().numpy()[0])\n",
    "        predictions['e_pred'].append(pred_labels_emotion)\n",
    "        predictions['s_pred'].append(pred_labels_speaker)\n",
    "        predictions['g_pred'].append(pred_labels_gender)\n",
    "    return predictions"
   ]
  },
  {
   "cell_type": "code",
   "execution_count": 18,
   "metadata": {},
   "outputs": [],
   "source": [
    "emotions = {\n",
    "    0: 'Angry',\n",
    "    1: 'Not Angry'\n",
    "}\n",
    "genders = {\n",
    "    0: 'Male',\n",
    "    1: 'Female'\n",
    "}"
   ]
  },
  {
   "cell_type": "code",
   "execution_count": 19,
   "metadata": {},
   "outputs": [
    {
     "name": "stderr",
     "output_type": "stream",
     "text": [
      "<ipython-input-17-872ffc4e7fc2>:15: DeprecationWarning: np.asscalar(a) is deprecated since NumPy v1.16, use a.item() instead\n",
      "  target_emotion = np.asscalar(target_emotion.numpy()[0])\n",
      "<ipython-input-17-872ffc4e7fc2>:16: DeprecationWarning: np.asscalar(a) is deprecated since NumPy v1.16, use a.item() instead\n",
      "  target_speaker = np.asscalar(target_speaker.numpy()[0])\n",
      "<ipython-input-17-872ffc4e7fc2>:17: DeprecationWarning: np.asscalar(a) is deprecated since NumPy v1.16, use a.item() instead\n",
      "  target_gender = np.asscalar(target_gender.numpy()[0])\n",
      "<ipython-input-17-872ffc4e7fc2>:26: DeprecationWarning: np.asscalar(a) is deprecated since NumPy v1.16, use a.item() instead\n",
      "  pred_labels_emotion = np.asscalar(pred_labels_emotion.cpu().numpy()[0])\n",
      "<ipython-input-17-872ffc4e7fc2>:27: DeprecationWarning: np.asscalar(a) is deprecated since NumPy v1.16, use a.item() instead\n",
      "  pred_labels_speaker = np.asscalar(pred_labels_speaker.cpu().numpy()[0])\n",
      "<ipython-input-17-872ffc4e7fc2>:28: DeprecationWarning: np.asscalar(a) is deprecated since NumPy v1.16, use a.item() instead\n",
      "  pred_labels_gender = np.asscalar(pred_labels_gender.cpu().numpy()[0])\n"
     ]
    }
   ],
   "source": [
    "predictions = get_predictions_multi(model=model, testloader=testloader, device=torch.device('cuda'))\n",
    "e_true = predictions['e_true']\n",
    "e_true = [emotions[_] for _ in e_true]\n",
    "e_pred = predictions['e_pred']\n",
    "e_pred = [emotions[_] for _ in e_pred]\n",
    "\n",
    "s_true = predictions['s_true']\n",
    "s_pred = predictions['s_pred']\n",
    "\n",
    "g_true = predictions['g_true']\n",
    "g_true = [genders[_] for _ in g_true]\n",
    "g_pred = predictions['g_pred']\n",
    "g_pred = [genders[_] for _ in g_pred]"
   ]
  },
  {
   "cell_type": "code",
   "execution_count": 20,
   "metadata": {},
   "outputs": [],
   "source": [
    "metrics = {\n",
    "    'accuracy': {\n",
    "        'emotion': accuracy_score(e_true, e_pred),\n",
    "        'speaker': accuracy_score(s_true, s_pred),\n",
    "        'gender': accuracy_score(g_true, g_pred)\n",
    "    },\n",
    "    'precision': {\n",
    "        'emotion': precision_score(e_true, e_pred, average='macro'),\n",
    "        'speaker': precision_score(s_true, s_pred, average='macro'),\n",
    "        'gender': precision_score(g_true, g_pred, average='macro')\n",
    "    },\n",
    "    'recall': {\n",
    "        'emotion': recall_score(e_true, e_pred, average='macro'),\n",
    "        'speaker': recall_score(s_true, s_pred, average='macro'),\n",
    "        'gender': recall_score(g_true, g_pred, average='macro')\n",
    "    },\n",
    "    'f1': {\n",
    "        'emotion': f1_score(e_true, e_pred, average='macro'),\n",
    "        'speaker': f1_score(s_true, s_pred, average='macro'),\n",
    "        'gender': f1_score(g_true, g_pred, average='macro')\n",
    "    }\n",
    "}"
   ]
  },
  {
   "cell_type": "code",
   "execution_count": 21,
   "metadata": {},
   "outputs": [
    {
     "data": {
      "text/plain": [
       "{'accuracy': {'emotion': 0.7705479452054794,\n",
       "  'speaker': 0.839041095890411,\n",
       "  'gender': 0.928082191780822},\n",
       " 'precision': {'emotion': 0.7637545669460564,\n",
       "  'speaker': 0.8314524087422526,\n",
       "  'gender': 0.9310606060606061},\n",
       " 'recall': {'emotion': 0.7426954071290849,\n",
       "  'speaker': 0.8380314534584783,\n",
       "  'gender': 0.9272774205660113},\n",
       " 'f1': {'emotion': 0.7493048347621061,\n",
       "  'speaker': 0.8325344151028249,\n",
       "  'gender': 0.92783759929391}}"
      ]
     },
     "execution_count": 21,
     "metadata": {},
     "output_type": "execute_result"
    }
   ],
   "source": [
    "metrics"
   ]
  },
  {
   "cell_type": "code",
   "execution_count": 22,
   "metadata": {},
   "outputs": [
    {
     "name": "stdout",
     "output_type": "stream",
     "text": [
      "              precision    recall  f1-score   support\n",
      "\n",
      "       Angry       0.78      0.87      0.82       179\n",
      "   Not Angry       0.74      0.62      0.68       113\n",
      "\n",
      "    accuracy                           0.77       292\n",
      "   macro avg       0.76      0.74      0.75       292\n",
      "weighted avg       0.77      0.77      0.77       292\n",
      "\n"
     ]
    }
   ],
   "source": [
    "print(classification_report(e_true, e_pred))"
   ]
  },
  {
   "cell_type": "code",
   "execution_count": 23,
   "metadata": {},
   "outputs": [
    {
     "name": "stdout",
     "output_type": "stream",
     "text": [
      "              precision    recall  f1-score   support\n",
      "\n",
      "           0       0.63      0.75      0.69        16\n",
      "           1       0.83      0.90      0.86        21\n",
      "           2       0.94      0.89      0.91        18\n",
      "           3       0.89      0.89      0.89        28\n",
      "           4       0.78      0.75      0.76        28\n",
      "           5       0.71      0.85      0.77        20\n",
      "           6       0.83      0.80      0.82        25\n",
      "           7       0.81      0.85      0.83        20\n",
      "           8       0.90      0.82      0.86        22\n",
      "           9       0.76      0.86      0.81        22\n",
      "          10       0.97      0.86      0.91        43\n",
      "          11       0.92      0.83      0.87        29\n",
      "\n",
      "    accuracy                           0.84       292\n",
      "   macro avg       0.83      0.84      0.83       292\n",
      "weighted avg       0.85      0.84      0.84       292\n",
      "\n"
     ]
    }
   ],
   "source": [
    "print(classification_report(s_true, s_pred))"
   ]
  },
  {
   "cell_type": "code",
   "execution_count": 24,
   "metadata": {},
   "outputs": [
    {
     "name": "stdout",
     "output_type": "stream",
     "text": [
      "              precision    recall  f1-score   support\n",
      "\n",
      "      Female       0.96      0.89      0.92       143\n",
      "        Male       0.90      0.97      0.93       149\n",
      "\n",
      "    accuracy                           0.93       292\n",
      "   macro avg       0.93      0.93      0.93       292\n",
      "weighted avg       0.93      0.93      0.93       292\n",
      "\n"
     ]
    }
   ],
   "source": [
    "print(classification_report(g_true, g_pred))"
   ]
  },
  {
   "cell_type": "markdown",
   "metadata": {},
   "source": [
    "## -----------------------------"
   ]
  },
  {
   "cell_type": "markdown",
   "metadata": {},
   "source": [
    "# МНОГОЗАДАЧНАЯ МОДЕЛЬ, ДИСКРЕТНЫЙ РАМАС"
   ]
  },
  {
   "cell_type": "code",
   "execution_count": 3,
   "metadata": {},
   "outputs": [
    {
     "data": {
      "text/plain": [
       "VGG(\n",
       "  (features): Sequential(\n",
       "    (0): Conv2d(1, 64, kernel_size=(3, 3), stride=(1, 1), padding=(1, 1))\n",
       "    (1): BatchNorm2d(64, eps=1e-05, momentum=0.1, affine=True, track_running_stats=True)\n",
       "    (2): ReLU(inplace=True)\n",
       "    (3): MaxPool2d(kernel_size=2, stride=2, padding=0, dilation=1, ceil_mode=False)\n",
       "    (4): Conv2d(64, 128, kernel_size=(3, 3), stride=(1, 1), padding=(1, 1))\n",
       "    (5): BatchNorm2d(128, eps=1e-05, momentum=0.1, affine=True, track_running_stats=True)\n",
       "    (6): ReLU(inplace=True)\n",
       "    (7): MaxPool2d(kernel_size=2, stride=2, padding=0, dilation=1, ceil_mode=False)\n",
       "    (8): Conv2d(128, 256, kernel_size=(3, 3), stride=(1, 1), padding=(1, 1))\n",
       "    (9): BatchNorm2d(256, eps=1e-05, momentum=0.1, affine=True, track_running_stats=True)\n",
       "    (10): ReLU(inplace=True)\n",
       "    (11): Conv2d(256, 256, kernel_size=(3, 3), stride=(1, 1), padding=(1, 1))\n",
       "    (12): BatchNorm2d(256, eps=1e-05, momentum=0.1, affine=True, track_running_stats=True)\n",
       "    (13): ReLU(inplace=True)\n",
       "    (14): MaxPool2d(kernel_size=2, stride=2, padding=0, dilation=1, ceil_mode=False)\n",
       "    (15): Conv2d(256, 512, kernel_size=(3, 3), stride=(1, 1), padding=(1, 1))\n",
       "    (16): BatchNorm2d(512, eps=1e-05, momentum=0.1, affine=True, track_running_stats=True)\n",
       "    (17): ReLU(inplace=True)\n",
       "    (18): Conv2d(512, 512, kernel_size=(3, 3), stride=(1, 1), padding=(1, 1))\n",
       "    (19): BatchNorm2d(512, eps=1e-05, momentum=0.1, affine=True, track_running_stats=True)\n",
       "    (20): ReLU(inplace=True)\n",
       "    (21): MaxPool2d(kernel_size=2, stride=2, padding=0, dilation=1, ceil_mode=False)\n",
       "    (22): Conv2d(512, 512, kernel_size=(3, 3), stride=(1, 1), padding=(1, 1))\n",
       "    (23): BatchNorm2d(512, eps=1e-05, momentum=0.1, affine=True, track_running_stats=True)\n",
       "    (24): ReLU(inplace=True)\n",
       "    (25): Conv2d(512, 512, kernel_size=(3, 3), stride=(1, 1), padding=(1, 1))\n",
       "    (26): BatchNorm2d(512, eps=1e-05, momentum=0.1, affine=True, track_running_stats=True)\n",
       "    (27): ReLU(inplace=True)\n",
       "    (28): MaxPool2d(kernel_size=2, stride=2, padding=0, dilation=1, ceil_mode=False)\n",
       "  )\n",
       "  (avgpool): AdaptiveAvgPool2d(output_size=(7, 7))\n",
       "  (joint_classifier): Sequential(\n",
       "    (0): Linear(in_features=25088, out_features=2048, bias=True)\n",
       "    (1): Dropout(p=0.5, inplace=False)\n",
       "    (2): ReLU(inplace=True)\n",
       "  )\n",
       "  (classifier_emotion): Sequential(\n",
       "    (0): Linear(in_features=2048, out_features=512, bias=True)\n",
       "    (1): ReLU(inplace=True)\n",
       "    (2): Linear(in_features=512, out_features=8, bias=True)\n",
       "  )\n",
       "  (classifier_speaker): Sequential(\n",
       "    (0): Linear(in_features=2048, out_features=512, bias=True)\n",
       "    (1): ReLU(inplace=True)\n",
       "    (2): Linear(in_features=512, out_features=12, bias=True)\n",
       "  )\n",
       "  (classifier_gender): Sequential(\n",
       "    (0): Linear(in_features=2048, out_features=512, bias=True)\n",
       "    (1): ReLU(inplace=True)\n",
       "    (2): Linear(in_features=512, out_features=2, bias=True)\n",
       "  )\n",
       ")"
      ]
     },
     "execution_count": 3,
     "metadata": {},
     "output_type": "execute_result"
    }
   ],
   "source": [
    "a = torch.load('models/best_models/VGGAverageWeighting__Ramas224DescreteMulti_224_train__best_model.pt')\n",
    "state_dict = a['state_dict']\n",
    "model = md_multi.vgg(num_emotions=8, num_speakers=12, num_genders=2, type=11, bn=True)\n",
    "model.load_state_dict(state_dict=state_dict)\n",
    "device = torch.device('cuda:1')\n",
    "model.to(device)"
   ]
  },
  {
   "cell_type": "code",
   "execution_count": 5,
   "metadata": {},
   "outputs": [
    {
     "name": "stdout",
     "output_type": "stream",
     "text": [
      "============= INITIALIZING DATASET Ramas224DescreteMulti_224_test ===============\n",
      "============================ SUCCESS! =========================\n"
     ]
    }
   ],
   "source": [
    "ramas_224_test = RamasDataset(RAMAS_PATH_TO_WAVS, 'Ramas224DescreteMulti',\n",
    "                 spectrogram_shape=224,\n",
    "                 augmentation=False, padding='repeat', mode='test',  tasks='multi', type='descrete')"
   ]
  },
  {
   "cell_type": "code",
   "execution_count": 6,
   "metadata": {},
   "outputs": [],
   "source": [
    "testloader = DataLoader(ramas_224_test, batch_size=1, shuffle=True, num_workers=4)"
   ]
  },
  {
   "cell_type": "code",
   "execution_count": 7,
   "metadata": {},
   "outputs": [],
   "source": [
    "emotions = {\n",
    "    0: 'Angry',\n",
    "    1: 'Disgusted',\n",
    "    2: 'Happy',\n",
    "    3: 'Neutral',\n",
    "    4: 'Sad',\n",
    "    5: 'Scared',\n",
    "    6: 'Shame',\n",
    "    7: 'Surprised'\n",
    "}\n",
    "genders = {\n",
    "    0: 'Male',\n",
    "    1: 'Female'\n",
    "}"
   ]
  },
  {
   "cell_type": "code",
   "execution_count": 10,
   "metadata": {},
   "outputs": [
    {
     "name": "stderr",
     "output_type": "stream",
     "text": [
      "<ipython-input-8-872ffc4e7fc2>:15: DeprecationWarning: np.asscalar(a) is deprecated since NumPy v1.16, use a.item() instead\n",
      "  target_emotion = np.asscalar(target_emotion.numpy()[0])\n",
      "<ipython-input-8-872ffc4e7fc2>:16: DeprecationWarning: np.asscalar(a) is deprecated since NumPy v1.16, use a.item() instead\n",
      "  target_speaker = np.asscalar(target_speaker.numpy()[0])\n",
      "<ipython-input-8-872ffc4e7fc2>:17: DeprecationWarning: np.asscalar(a) is deprecated since NumPy v1.16, use a.item() instead\n",
      "  target_gender = np.asscalar(target_gender.numpy()[0])\n",
      "<ipython-input-8-872ffc4e7fc2>:26: DeprecationWarning: np.asscalar(a) is deprecated since NumPy v1.16, use a.item() instead\n",
      "  pred_labels_emotion = np.asscalar(pred_labels_emotion.cpu().numpy()[0])\n",
      "<ipython-input-8-872ffc4e7fc2>:27: DeprecationWarning: np.asscalar(a) is deprecated since NumPy v1.16, use a.item() instead\n",
      "  pred_labels_speaker = np.asscalar(pred_labels_speaker.cpu().numpy()[0])\n",
      "<ipython-input-8-872ffc4e7fc2>:28: DeprecationWarning: np.asscalar(a) is deprecated since NumPy v1.16, use a.item() instead\n",
      "  pred_labels_gender = np.asscalar(pred_labels_gender.cpu().numpy()[0])\n"
     ]
    }
   ],
   "source": [
    "predictions = get_predictions_multi(model=model, testloader=testloader, device=torch.device('cuda:1'))\n",
    "e_true = predictions['e_true']\n",
    "e_true = [emotions[_] for _ in e_true]\n",
    "e_pred = predictions['e_pred']\n",
    "e_pred = [emotions[_] for _ in e_pred]\n",
    "\n",
    "s_true = predictions['s_true']\n",
    "s_pred = predictions['s_pred']\n",
    "\n",
    "g_true = predictions['g_true']\n",
    "g_true = [genders[_] for _ in g_true]\n",
    "g_pred = predictions['g_pred']\n",
    "g_pred = [genders[_] for _ in g_pred]"
   ]
  },
  {
   "cell_type": "code",
   "execution_count": 11,
   "metadata": {},
   "outputs": [
    {
     "data": {
      "text/plain": [
       "{'accuracy': {'emotion': 0.4672131147540984,\n",
       "  'speaker': 0.8176229508196722,\n",
       "  'gender': 0.9364754098360656},\n",
       " 'precision': {'emotion': 0.5483558954441596,\n",
       "  'speaker': 0.810842651693496,\n",
       "  'gender': 0.9373272665992585},\n",
       " 'recall': {'emotion': 0.4238572838034187,\n",
       "  'speaker': 0.804147882111432,\n",
       "  'gender': 0.9360706424022449},\n",
       " 'f1': {'emotion': 0.4354711201257131,\n",
       "  'speaker': 0.8017041963597779,\n",
       "  'gender': 0.9363789673778193}}"
      ]
     },
     "execution_count": 11,
     "metadata": {},
     "output_type": "execute_result"
    }
   ],
   "source": [
    "metrics = {\n",
    "    'accuracy': {\n",
    "        'emotion': accuracy_score(e_true, e_pred),\n",
    "        'speaker': accuracy_score(s_true, s_pred),\n",
    "        'gender': accuracy_score(g_true, g_pred)\n",
    "    },\n",
    "    'precision': {\n",
    "        'emotion': precision_score(e_true, e_pred, average='macro'),\n",
    "        'speaker': precision_score(s_true, s_pred, average='macro'),\n",
    "        'gender': precision_score(g_true, g_pred, average='macro')\n",
    "    },\n",
    "    'recall': {\n",
    "        'emotion': recall_score(e_true, e_pred, average='macro'),\n",
    "        'speaker': recall_score(s_true, s_pred, average='macro'),\n",
    "        'gender': recall_score(g_true, g_pred, average='macro')\n",
    "    },\n",
    "    'f1': {\n",
    "        'emotion': f1_score(e_true, e_pred, average='macro'),\n",
    "        'speaker': f1_score(s_true, s_pred, average='macro'),\n",
    "        'gender': f1_score(g_true, g_pred, average='macro')\n",
    "    }\n",
    "}\n",
    "metrics"
   ]
  },
  {
   "cell_type": "code",
   "execution_count": 12,
   "metadata": {},
   "outputs": [
    {
     "name": "stdout",
     "output_type": "stream",
     "text": [
      "              precision    recall  f1-score   support\n",
      "\n",
      "       Angry       0.49      0.54      0.52       166\n",
      "   Disgusted       0.31      0.34      0.33       100\n",
      "       Happy       0.42      0.84      0.56       221\n",
      "     Neutral       0.72      0.71      0.72        69\n",
      "         Sad       0.69      0.34      0.45       119\n",
      "      Scared       0.51      0.20      0.28       193\n",
      "       Shame       0.86      0.27      0.41        22\n",
      "   Surprised       0.38      0.15      0.22        86\n",
      "\n",
      "    accuracy                           0.47       976\n",
      "   macro avg       0.55      0.42      0.44       976\n",
      "weighted avg       0.50      0.47      0.44       976\n",
      "\n"
     ]
    }
   ],
   "source": [
    "print(classification_report(e_true, e_pred))"
   ]
  },
  {
   "cell_type": "code",
   "execution_count": 13,
   "metadata": {},
   "outputs": [
    {
     "name": "stdout",
     "output_type": "stream",
     "text": [
      "              precision    recall  f1-score   support\n",
      "\n",
      "           0       0.57      0.70      0.63        40\n",
      "           1       0.71      0.82      0.76        71\n",
      "           2       0.91      0.87      0.89        71\n",
      "           3       0.84      0.88      0.86        97\n",
      "           4       0.77      0.72      0.75        69\n",
      "           5       0.75      0.73      0.74        74\n",
      "           6       0.84      0.89      0.87        95\n",
      "           7       0.85      0.71      0.78        70\n",
      "           8       0.98      0.64      0.77        80\n",
      "           9       0.73      0.93      0.82        75\n",
      "          10       0.91      0.84      0.87       112\n",
      "          11       0.87      0.91      0.89       122\n",
      "\n",
      "    accuracy                           0.82       976\n",
      "   macro avg       0.81      0.80      0.80       976\n",
      "weighted avg       0.83      0.82      0.82       976\n",
      "\n"
     ]
    }
   ],
   "source": [
    "print(classification_report(s_true, s_pred))"
   ]
  },
  {
   "cell_type": "code",
   "execution_count": 14,
   "metadata": {},
   "outputs": [
    {
     "name": "stdout",
     "output_type": "stream",
     "text": [
      "              precision    recall  f1-score   support\n",
      "\n",
      "      Female       0.95      0.92      0.93       478\n",
      "        Male       0.92      0.96      0.94       498\n",
      "\n",
      "    accuracy                           0.94       976\n",
      "   macro avg       0.94      0.94      0.94       976\n",
      "weighted avg       0.94      0.94      0.94       976\n",
      "\n"
     ]
    }
   ],
   "source": [
    "print(classification_report(g_true, g_pred))"
   ]
  },
  {
   "cell_type": "markdown",
   "metadata": {},
   "source": [
    "# ---------------------------------"
   ]
  },
  {
   "cell_type": "markdown",
   "metadata": {},
   "source": [
    "# VGG, ДИСКРЕТНЫЙ РАМАС"
   ]
  },
  {
   "cell_type": "code",
   "execution_count": 16,
   "metadata": {},
   "outputs": [],
   "source": [
    "with open('models/best_models/VGGNet--Ramas224Descrete_224_train_augmentation-true.md', 'rb') as f:\n",
    "    net = pickle.load(f)"
   ]
  },
  {
   "cell_type": "code",
   "execution_count": 19,
   "metadata": {},
   "outputs": [
    {
     "name": "stdout",
     "output_type": "stream",
     "text": [
      "============= INITIALIZING DATASET Ramas224DescreteMulti_224_test ===============\n",
      "============================ SUCCESS! =========================\n"
     ]
    }
   ],
   "source": [
    "model = net.module_\n",
    "ramas_224_test = RamasDataset(RAMAS_PATH_TO_WAVS, 'Ramas224DescreteMulti',\n",
    "                 spectrogram_shape=224,\n",
    "                 augmentation=False, padding='repeat', mode='test',  tasks='emotion', type='descrete')\n",
    "testloader = DataLoader(ramas_224_test, batch_size=1, shuffle=True, num_workers=4)\n",
    "emotions = {\n",
    "    0: 'Angry',\n",
    "    1: 'Disgusted',\n",
    "    2: 'Happy',\n",
    "    3: 'Neutral',\n",
    "    4: 'Sad',\n",
    "    5: 'Scared',\n",
    "    6: 'Shame',\n",
    "    7: 'Surprised'\n",
    "}\n",
    "genders = {\n",
    "    0: 'Male',\n",
    "    1: 'Female'\n",
    "}"
   ]
  },
  {
   "cell_type": "code",
   "execution_count": 6,
   "metadata": {},
   "outputs": [],
   "source": [
    "def get_predictions_one(model, testloader, device):\n",
    "    predictions = {\n",
    "        'e_true': [],\n",
    "        'e_pred': [],\n",
    "    }\n",
    "    dataset_size = len(testloader.dataset)\n",
    "    model.to(device)\n",
    "    model.eval()\n",
    "    for i, (data, target) in enumerate(testloader):\n",
    "        data = data.to(device)\n",
    "        target_emotion = target\n",
    "        target_emotion = np.asscalar(target_emotion.numpy()[0])\n",
    "        predictions['e_true'].append(target_emotion)\n",
    "        with torch.no_grad():\n",
    "            predicted_emotion = model(data)\n",
    "        _, pred_labels_emotion = torch.max(predicted_emotion.data, 1)\n",
    "        pred_labels_emotion = np.asscalar(pred_labels_emotion.cpu().numpy()[0])\n",
    "        predictions['e_pred'].append(pred_labels_emotion)\n",
    "    return predictions"
   ]
  },
  {
   "cell_type": "code",
   "execution_count": 24,
   "metadata": {},
   "outputs": [
    {
     "name": "stderr",
     "output_type": "stream",
     "text": [
      "<ipython-input-22-9b5d036800d1>:12: DeprecationWarning: np.asscalar(a) is deprecated since NumPy v1.16, use a.item() instead\n",
      "  target_emotion = np.asscalar(target_emotion.numpy()[0])\n",
      "<ipython-input-22-9b5d036800d1>:17: DeprecationWarning: np.asscalar(a) is deprecated since NumPy v1.16, use a.item() instead\n",
      "  pred_labels_emotion = np.asscalar(pred_labels_emotion.cpu().numpy()[0])\n"
     ]
    }
   ],
   "source": [
    "predictions = get_predictions_one(model=model, testloader=testloader, device=torch.device('cuda:1'))\n",
    "e_true = predictions['e_true']\n",
    "e_true = [emotions[_] for _ in e_true]\n",
    "e_pred = predictions['e_pred']\n",
    "e_pred = [emotions[_] for _ in e_pred]"
   ]
  },
  {
   "cell_type": "code",
   "execution_count": 25,
   "metadata": {},
   "outputs": [
    {
     "data": {
      "text/plain": [
       "{'accuracy': 0.4774590163934426,\n",
       " 'precision': 0.43051105490958685,\n",
       " 'recall': 0.42669564893143114,\n",
       " 'f1': 0.38814970531461634}"
      ]
     },
     "execution_count": 25,
     "metadata": {},
     "output_type": "execute_result"
    }
   ],
   "source": [
    "metrics = {\n",
    "    'accuracy': accuracy_score(e_true, e_pred),\n",
    "    'precision': precision_score(e_true, e_pred, average='macro'),\n",
    "    'recall': recall_score(e_true, e_pred, average='macro'),\n",
    "    'f1': f1_score(e_true, e_pred, average='macro'),\n",
    "}\n",
    "metrics"
   ]
  },
  {
   "cell_type": "code",
   "execution_count": 26,
   "metadata": {},
   "outputs": [
    {
     "name": "stdout",
     "output_type": "stream",
     "text": [
      "              precision    recall  f1-score   support\n",
      "\n",
      "       Angry       0.48      0.55      0.52       166\n",
      "   Disgusted       0.30      0.60      0.40       100\n",
      "       Happy       0.53      0.57      0.55       221\n",
      "     Neutral       0.51      0.80      0.62        69\n",
      "         Sad       0.57      0.50      0.53       119\n",
      "      Scared       0.55      0.37      0.45       193\n",
      "       Shame       0.00      0.00      0.00        22\n",
      "   Surprised       0.50      0.02      0.04        86\n",
      "\n",
      "    accuracy                           0.48       976\n",
      "   macro avg       0.43      0.43      0.39       976\n",
      "weighted avg       0.49      0.48      0.45       976\n",
      "\n"
     ]
    }
   ],
   "source": [
    "print(classification_report(e_true, e_pred))"
   ]
  },
  {
   "cell_type": "markdown",
   "metadata": {},
   "source": [
    "# ----------------------------------------------"
   ]
  },
  {
   "cell_type": "markdown",
   "metadata": {},
   "source": [
    "# VGG, БИНАРНЫЙ РАМАС"
   ]
  },
  {
   "cell_type": "code",
   "execution_count": 3,
   "metadata": {},
   "outputs": [],
   "source": [
    "with open('models/best_models/VGGNet--Ramas224Binary_224_train_augmentation-true.md', 'rb') as f:\n",
    "    net = pickle.load(f)"
   ]
  },
  {
   "cell_type": "code",
   "execution_count": 4,
   "metadata": {},
   "outputs": [
    {
     "name": "stdout",
     "output_type": "stream",
     "text": [
      "============= INITIALIZING DATASET Ramas224BinaryMulti_224_test ===============\n",
      "============================ SUCCESS! =========================\n"
     ]
    }
   ],
   "source": [
    "model = net.module_\n",
    "ramas_224_test = RamasDataset(RAMAS_PATH_TO_WAVS_BINARY, 'Ramas224BinaryMulti',\n",
    "                 spectrogram_shape=224,\n",
    "                 augmentation=False, padding='repeat', mode='test',  tasks='emotion', type='binary')\n",
    "testloader = DataLoader(ramas_224_test, batch_size=1, shuffle=True, num_workers=4)\n",
    "emotions = {\n",
    "    0: 'Angry',\n",
    "    1: 'Not Angry'\n",
    "}\n",
    "genders = {\n",
    "    0: 'Male',\n",
    "    1: 'Female'\n",
    "}"
   ]
  },
  {
   "cell_type": "code",
   "execution_count": 7,
   "metadata": {},
   "outputs": [
    {
     "name": "stderr",
     "output_type": "stream",
     "text": [
      "<ipython-input-6-9b5d036800d1>:12: DeprecationWarning: np.asscalar(a) is deprecated since NumPy v1.16, use a.item() instead\n",
      "  target_emotion = np.asscalar(target_emotion.numpy()[0])\n",
      "<ipython-input-6-9b5d036800d1>:17: DeprecationWarning: np.asscalar(a) is deprecated since NumPy v1.16, use a.item() instead\n",
      "  pred_labels_emotion = np.asscalar(pred_labels_emotion.cpu().numpy()[0])\n"
     ]
    },
    {
     "data": {
      "text/plain": [
       "{'accuracy': 0.7294520547945206,\n",
       " 'precision': 0.7147094926350246,\n",
       " 'recall': 0.7075443713847827,\n",
       " 'f1': 0.7103429224374993}"
      ]
     },
     "execution_count": 7,
     "metadata": {},
     "output_type": "execute_result"
    }
   ],
   "source": [
    "predictions = get_predictions_one(model=model, testloader=testloader, device=torch.device('cuda:1'))\n",
    "e_true = predictions['e_true']\n",
    "e_true = [emotions[_] for _ in e_true]\n",
    "e_pred = predictions['e_pred']\n",
    "e_pred = [emotions[_] for _ in e_pred]\n",
    "metrics = {\n",
    "    'accuracy': accuracy_score(e_true, e_pred),\n",
    "    'precision': precision_score(e_true, e_pred, average='macro'),\n",
    "    'recall': recall_score(e_true, e_pred, average='macro'),\n",
    "    'f1': f1_score(e_true, e_pred, average='macro'),\n",
    "}\n",
    "metrics"
   ]
  },
  {
   "cell_type": "code",
   "execution_count": 8,
   "metadata": {},
   "outputs": [
    {
     "name": "stdout",
     "output_type": "stream",
     "text": [
      "              precision    recall  f1-score   support\n",
      "\n",
      "       Angry       0.77      0.80      0.78       179\n",
      "   Not Angry       0.66      0.61      0.64       113\n",
      "\n",
      "    accuracy                           0.73       292\n",
      "   macro avg       0.71      0.71      0.71       292\n",
      "weighted avg       0.73      0.73      0.73       292\n",
      "\n"
     ]
    }
   ],
   "source": [
    "print(classification_report(e_true, e_pred))"
   ]
  },
  {
   "cell_type": "markdown",
   "metadata": {},
   "source": [
    "# ----------------------------------------------------------"
   ]
  },
  {
   "cell_type": "markdown",
   "metadata": {},
   "source": [
    "# VGG, IEMOCAP"
   ]
  },
  {
   "cell_type": "code",
   "execution_count": 2,
   "metadata": {},
   "outputs": [],
   "source": [
    "with open('models/best_models/VggNet--IEMOCAP-4_four_prep-false_224_train_augmentation-true.md', 'rb') as f:\n",
    "    net = pickle.load(f)"
   ]
  },
  {
   "cell_type": "code",
   "execution_count": 3,
   "metadata": {},
   "outputs": [
    {
     "name": "stdout",
     "output_type": "stream",
     "text": [
      "============= INITIALIZING DATASET IEMOCAP-4_four_prep-false_224_test ===============\n",
      "=========================== SUCCESS! ====================================\n"
     ]
    }
   ],
   "source": [
    "test_ds = IemocapDataset(  # Без препроцессинга, тестовый\n",
    "    PATH_TO_PICKLE, IEMOCAP_PATH_TO_WAVS, IEMOCAP_PATH_TO_EGEMAPS, IEMOCAP_PATH_FOR_PARSER, \n",
    "    base_name='IEMOCAP-4', label_type='four', mode='test', preprocessing=False, \n",
    "    augmentation=True, padding='repeat', spectrogram_shape=224, spectrogram_type='melspec', tasks='emotion'\n",
    ")"
   ]
  },
  {
   "cell_type": "code",
   "execution_count": 5,
   "metadata": {},
   "outputs": [],
   "source": [
    "model = net.module_\n",
    "testloader = DataLoader(test_ds, batch_size=1, shuffle=True, num_workers=4)\n",
    "emotions = {\n",
    "    0: 'Anger',\n",
    "    1: 'Happiness',\n",
    "    2: 'Neutral',\n",
    "    3: 'Sadness'\n",
    "}\n",
    "genders = {\n",
    "    0: 'Female',\n",
    "    1: 'Male'\n",
    "}"
   ]
  },
  {
   "cell_type": "code",
   "execution_count": 8,
   "metadata": {},
   "outputs": [
    {
     "name": "stderr",
     "output_type": "stream",
     "text": [
      "<ipython-input-7-9b5d036800d1>:12: DeprecationWarning: np.asscalar(a) is deprecated since NumPy v1.16, use a.item() instead\n",
      "  target_emotion = np.asscalar(target_emotion.numpy()[0])\n",
      "<ipython-input-7-9b5d036800d1>:17: DeprecationWarning: np.asscalar(a) is deprecated since NumPy v1.16, use a.item() instead\n",
      "  pred_labels_emotion = np.asscalar(pred_labels_emotion.cpu().numpy()[0])\n"
     ]
    },
    {
     "data": {
      "text/plain": [
       "{'accuracy': 0.6954087346024636,\n",
       " 'precision': 0.6742877063071562,\n",
       " 'recall': 0.6311857240118967,\n",
       " 'f1': 0.6307661952876085}"
      ]
     },
     "execution_count": 8,
     "metadata": {},
     "output_type": "execute_result"
    }
   ],
   "source": [
    "predictions = get_predictions_one(model=model, testloader=testloader, device=torch.device('cuda:1'))\n",
    "e_true = predictions['e_true']\n",
    "e_true = [emotions[_] for _ in e_true]\n",
    "e_pred = predictions['e_pred']\n",
    "e_pred = [emotions[_] for _ in e_pred]\n",
    "metrics = {\n",
    "    'accuracy': accuracy_score(e_true, e_pred),\n",
    "    'precision': precision_score(e_true, e_pred, average='macro'),\n",
    "    'recall': recall_score(e_true, e_pred, average='macro'),\n",
    "    'f1': f1_score(e_true, e_pred, average='macro'),\n",
    "}\n",
    "metrics"
   ]
  },
  {
   "cell_type": "code",
   "execution_count": 9,
   "metadata": {},
   "outputs": [
    {
     "name": "stdout",
     "output_type": "stream",
     "text": [
      "              precision    recall  f1-score   support\n",
      "\n",
      "       Anger       0.82      0.83      0.83       220\n",
      "   Happiness       0.56      0.20      0.30       118\n",
      "     Neutral       0.66      0.75      0.70       340\n",
      "     Sadness       0.65      0.74      0.69       215\n",
      "\n",
      "    accuracy                           0.70       893\n",
      "   macro avg       0.67      0.63      0.63       893\n",
      "weighted avg       0.69      0.70      0.68       893\n",
      "\n"
     ]
    }
   ],
   "source": [
    "print(classification_report(e_true, e_pred))"
   ]
  },
  {
   "cell_type": "markdown",
   "metadata": {},
   "source": [
    "# -----------------------------------------------------------------"
   ]
  },
  {
   "cell_type": "markdown",
   "metadata": {},
   "source": [
    "# ALEXNET, ДИСКРЕТНЫЙ РАМАС"
   ]
  },
  {
   "cell_type": "code",
   "execution_count": 13,
   "metadata": {},
   "outputs": [],
   "source": [
    "with open('models/best_models/AlexNet--Ramas224Descrete_224_train_augmentation-true.md', 'rb') as f:\n",
    "    net = pickle.load(f)"
   ]
  },
  {
   "cell_type": "code",
   "execution_count": 14,
   "metadata": {},
   "outputs": [
    {
     "name": "stdout",
     "output_type": "stream",
     "text": [
      "============= INITIALIZING DATASET Ramas224DescreteMulti_224_test ===============\n",
      "============================ SUCCESS! =========================\n"
     ]
    }
   ],
   "source": [
    "model = net.module_\n",
    "ramas_224_test = RamasDataset(RAMAS_PATH_TO_WAVS, 'Ramas224DescreteMulti',\n",
    "                 spectrogram_shape=224,\n",
    "                 augmentation=False, padding='repeat', mode='test',  tasks='emotion', type='descrete')\n",
    "testloader = DataLoader(ramas_224_test, batch_size=1, shuffle=True, num_workers=4)\n",
    "emotions = {\n",
    "    0: 'Angry',\n",
    "    1: 'Disgusted',\n",
    "    2: 'Happy',\n",
    "    3: 'Neutral',\n",
    "    4: 'Sad',\n",
    "    5: 'Scared',\n",
    "    6: 'Shame',\n",
    "    7: 'Surprised'\n",
    "}\n",
    "genders = {\n",
    "    0: 'Male',\n",
    "    1: 'Female'\n",
    "}"
   ]
  },
  {
   "cell_type": "code",
   "execution_count": 15,
   "metadata": {},
   "outputs": [
    {
     "name": "stderr",
     "output_type": "stream",
     "text": [
      "<ipython-input-7-9b5d036800d1>:12: DeprecationWarning: np.asscalar(a) is deprecated since NumPy v1.16, use a.item() instead\n",
      "  target_emotion = np.asscalar(target_emotion.numpy()[0])\n",
      "<ipython-input-7-9b5d036800d1>:17: DeprecationWarning: np.asscalar(a) is deprecated since NumPy v1.16, use a.item() instead\n",
      "  pred_labels_emotion = np.asscalar(pred_labels_emotion.cpu().numpy()[0])\n"
     ]
    },
    {
     "data": {
      "text/plain": [
       "{'accuracy': 0.41598360655737704,\n",
       " 'precision': 0.29468686972631836,\n",
       " 'recall': 0.3533301378754125,\n",
       " 'f1': 0.31536628357622454}"
      ]
     },
     "execution_count": 15,
     "metadata": {},
     "output_type": "execute_result"
    }
   ],
   "source": [
    "predictions = get_predictions_one(model=model, testloader=testloader, device=torch.device('cuda:1'))\n",
    "e_true = predictions['e_true']\n",
    "e_true = [emotions[_] for _ in e_true]\n",
    "e_pred = predictions['e_pred']\n",
    "e_pred = [emotions[_] for _ in e_pred]\n",
    "metrics = {\n",
    "    'accuracy': accuracy_score(e_true, e_pred),\n",
    "    'precision': precision_score(e_true, e_pred, average='macro'),\n",
    "    'recall': recall_score(e_true, e_pred, average='macro'),\n",
    "    'f1': f1_score(e_true, e_pred, average='macro'),\n",
    "}\n",
    "metrics"
   ]
  },
  {
   "cell_type": "code",
   "execution_count": 16,
   "metadata": {},
   "outputs": [
    {
     "name": "stdout",
     "output_type": "stream",
     "text": [
      "              precision    recall  f1-score   support\n",
      "\n",
      "       Angry       0.48      0.54      0.51       166\n",
      "   Disgusted       0.00      0.00      0.00       100\n",
      "       Happy       0.44      0.47      0.45       221\n",
      "     Neutral       0.74      0.65      0.69        69\n",
      "         Sad       0.40      0.77      0.53       119\n",
      "      Scared       0.30      0.39      0.34       193\n",
      "       Shame       0.00      0.00      0.00        22\n",
      "   Surprised       0.00      0.00      0.00        86\n",
      "\n",
      "    accuracy                           0.42       976\n",
      "   macro avg       0.29      0.35      0.32       976\n",
      "weighted avg       0.34      0.42      0.37       976\n",
      "\n"
     ]
    },
    {
     "name": "stderr",
     "output_type": "stream",
     "text": [
      "/home/aggr/anaconda3/envs/ryabinov/lib/python3.8/site-packages/sklearn/metrics/_classification.py:1221: UndefinedMetricWarning: Precision and F-score are ill-defined and being set to 0.0 in labels with no predicted samples. Use `zero_division` parameter to control this behavior.\n",
      "  _warn_prf(average, modifier, msg_start, len(result))\n"
     ]
    }
   ],
   "source": [
    "print(classification_report(e_true, e_pred))"
   ]
  },
  {
   "cell_type": "markdown",
   "metadata": {},
   "source": [
    "# ----------------------------------------------"
   ]
  },
  {
   "cell_type": "markdown",
   "metadata": {},
   "source": [
    "# ALEXNET, БИНАРНЫЙ РАМАС"
   ]
  },
  {
   "cell_type": "code",
   "execution_count": 9,
   "metadata": {},
   "outputs": [],
   "source": [
    "with open('models/best_models/AlexNet--Ramas224Binary_224_train_augmentation-true.md', 'rb') as f:\n",
    "    net = pickle.load(f)"
   ]
  },
  {
   "cell_type": "code",
   "execution_count": 10,
   "metadata": {},
   "outputs": [
    {
     "name": "stdout",
     "output_type": "stream",
     "text": [
      "============= INITIALIZING DATASET Ramas224DescreteMulti_224_test ===============\n",
      "============================ SUCCESS! =========================\n"
     ]
    }
   ],
   "source": [
    "model = net.module_\n",
    "ramas_224_test = RamasDataset(RAMAS_PATH_TO_WAVS_BINARY, 'Ramas224DescreteMulti',\n",
    "                 spectrogram_shape=224,\n",
    "                 augmentation=False, padding='repeat', mode='test',  tasks='emotion', type='binary')\n",
    "testloader = DataLoader(ramas_224_test, batch_size=1, shuffle=True, num_workers=4)\n",
    "emotions = {\n",
    "    0: 'Angry',\n",
    "    1: 'Not Angry'\n",
    "}\n",
    "genders = {\n",
    "    0: 'Male',\n",
    "    1: 'Female'\n",
    "}"
   ]
  },
  {
   "cell_type": "code",
   "execution_count": 11,
   "metadata": {},
   "outputs": [
    {
     "name": "stderr",
     "output_type": "stream",
     "text": [
      "<ipython-input-6-9b5d036800d1>:12: DeprecationWarning: np.asscalar(a) is deprecated since NumPy v1.16, use a.item() instead\n",
      "  target_emotion = np.asscalar(target_emotion.numpy()[0])\n",
      "<ipython-input-6-9b5d036800d1>:17: DeprecationWarning: np.asscalar(a) is deprecated since NumPy v1.16, use a.item() instead\n",
      "  pred_labels_emotion = np.asscalar(pred_labels_emotion.cpu().numpy()[0])\n"
     ]
    },
    {
     "data": {
      "text/plain": [
       "{'accuracy': 0.7123287671232876,\n",
       " 'precision': 0.6972242692213215,\n",
       " 'recall': 0.6984723389528847,\n",
       " 'f1': 0.6978119455943228}"
      ]
     },
     "execution_count": 11,
     "metadata": {},
     "output_type": "execute_result"
    }
   ],
   "source": [
    "predictions = get_predictions_one(model=model, testloader=testloader, device=torch.device('cuda:1'))\n",
    "e_true = predictions['e_true']\n",
    "e_true = [emotions[_] for _ in e_true]\n",
    "e_pred = predictions['e_pred']\n",
    "e_pred = [emotions[_] for _ in e_pred]\n",
    "metrics = {\n",
    "    'accuracy': accuracy_score(e_true, e_pred),\n",
    "    'precision': precision_score(e_true, e_pred, average='macro'),\n",
    "    'recall': recall_score(e_true, e_pred, average='macro'),\n",
    "    'f1': f1_score(e_true, e_pred, average='macro'),\n",
    "}\n",
    "metrics"
   ]
  },
  {
   "cell_type": "code",
   "execution_count": 12,
   "metadata": {},
   "outputs": [
    {
     "name": "stdout",
     "output_type": "stream",
     "text": [
      "              precision    recall  f1-score   support\n",
      "\n",
      "       Angry       0.77      0.76      0.76       179\n",
      "   Not Angry       0.63      0.64      0.63       113\n",
      "\n",
      "    accuracy                           0.71       292\n",
      "   macro avg       0.70      0.70      0.70       292\n",
      "weighted avg       0.71      0.71      0.71       292\n",
      "\n"
     ]
    }
   ],
   "source": [
    "print(classification_report(e_true, e_pred))"
   ]
  },
  {
   "cell_type": "markdown",
   "metadata": {},
   "source": [
    "# -----------------------------------------------"
   ]
  },
  {
   "cell_type": "markdown",
   "metadata": {},
   "source": [
    "# ALEXNET, IEMOCAP"
   ]
  },
  {
   "cell_type": "code",
   "execution_count": 21,
   "metadata": {},
   "outputs": [],
   "source": [
    "with open('models/best_models/AlexNet--IEMOCAP-4_four_prep-false_224_train_augmentation-true.md', 'rb') as f:\n",
    "    net = pickle.load(f)"
   ]
  },
  {
   "cell_type": "code",
   "execution_count": 22,
   "metadata": {},
   "outputs": [
    {
     "name": "stdout",
     "output_type": "stream",
     "text": [
      "============= INITIALIZING DATASET IEMOCAP-4_four_prep-false_224_test ===============\n",
      "=========================== SUCCESS! ====================================\n"
     ]
    }
   ],
   "source": [
    "test_ds = IemocapDataset(  # Без препроцессинга, тестовый\n",
    "    PATH_TO_PICKLE, IEMOCAP_PATH_TO_WAVS, IEMOCAP_PATH_TO_EGEMAPS, IEMOCAP_PATH_FOR_PARSER, \n",
    "    base_name='IEMOCAP-4', label_type='four', mode='test', preprocessing=False, \n",
    "    augmentation=True, padding='repeat', spectrogram_shape=224, spectrogram_type='melspec', tasks='emotion'\n",
    ")"
   ]
  },
  {
   "cell_type": "code",
   "execution_count": 23,
   "metadata": {},
   "outputs": [],
   "source": [
    "model = net.module_\n",
    "testloader = DataLoader(test_ds, batch_size=1, shuffle=True, num_workers=4)\n",
    "emotions = {\n",
    "    0: 'Anger',\n",
    "    1: 'Happiness',\n",
    "    2: 'Neutral',\n",
    "    3: 'Sadness'\n",
    "}\n",
    "genders = {\n",
    "    0: 'Female',\n",
    "    1: 'Male'\n",
    "}"
   ]
  },
  {
   "cell_type": "code",
   "execution_count": 24,
   "metadata": {},
   "outputs": [
    {
     "name": "stderr",
     "output_type": "stream",
     "text": [
      "<ipython-input-7-9b5d036800d1>:12: DeprecationWarning: np.asscalar(a) is deprecated since NumPy v1.16, use a.item() instead\n",
      "  target_emotion = np.asscalar(target_emotion.numpy()[0])\n",
      "<ipython-input-7-9b5d036800d1>:17: DeprecationWarning: np.asscalar(a) is deprecated since NumPy v1.16, use a.item() instead\n",
      "  pred_labels_emotion = np.asscalar(pred_labels_emotion.cpu().numpy()[0])\n"
     ]
    },
    {
     "data": {
      "text/plain": [
       "{'accuracy': 0.6875699888017918,\n",
       " 'precision': 0.6697203123673713,\n",
       " 'recall': 0.6239613611596501,\n",
       " 'f1': 0.613368479215771}"
      ]
     },
     "execution_count": 24,
     "metadata": {},
     "output_type": "execute_result"
    }
   ],
   "source": [
    "predictions = get_predictions_one(model=model, testloader=testloader, device=torch.device('cuda:1'))\n",
    "e_true = predictions['e_true']\n",
    "e_true = [emotions[_] for _ in e_true]\n",
    "e_pred = predictions['e_pred']\n",
    "e_pred = [emotions[_] for _ in e_pred]\n",
    "metrics = {\n",
    "    'accuracy': accuracy_score(e_true, e_pred),\n",
    "    'precision': precision_score(e_true, e_pred, average='macro'),\n",
    "    'recall': recall_score(e_true, e_pred, average='macro'),\n",
    "    'f1': f1_score(e_true, e_pred, average='macro'),\n",
    "}\n",
    "metrics"
   ]
  },
  {
   "cell_type": "code",
   "execution_count": 25,
   "metadata": {},
   "outputs": [
    {
     "name": "stdout",
     "output_type": "stream",
     "text": [
      "              precision    recall  f1-score   support\n",
      "\n",
      "       Anger       0.85      0.79      0.82       220\n",
      "   Happiness       0.55      0.15      0.24       118\n",
      "     Neutral       0.69      0.71      0.70       340\n",
      "     Sadness       0.59      0.85      0.70       215\n",
      "\n",
      "    accuracy                           0.69       893\n",
      "   macro avg       0.67      0.62      0.61       893\n",
      "weighted avg       0.69      0.69      0.67       893\n",
      "\n"
     ]
    }
   ],
   "source": [
    "print(classification_report(e_true, e_pred))"
   ]
  },
  {
   "cell_type": "markdown",
   "metadata": {},
   "source": [
    "# -------------------------------------------------------"
   ]
  },
  {
   "cell_type": "markdown",
   "metadata": {},
   "source": [
    "# МНОГОЗАДАЧНАЯ, IEMOCAP"
   ]
  },
  {
   "cell_type": "code",
   "execution_count": 3,
   "metadata": {},
   "outputs": [
    {
     "data": {
      "text/plain": [
       "VGG(\n",
       "  (features): Sequential(\n",
       "    (0): Conv2d(1, 64, kernel_size=(3, 3), stride=(1, 1), padding=(1, 1))\n",
       "    (1): BatchNorm2d(64, eps=1e-05, momentum=0.1, affine=True, track_running_stats=True)\n",
       "    (2): ReLU(inplace=True)\n",
       "    (3): MaxPool2d(kernel_size=2, stride=2, padding=0, dilation=1, ceil_mode=False)\n",
       "    (4): Conv2d(64, 128, kernel_size=(3, 3), stride=(1, 1), padding=(1, 1))\n",
       "    (5): BatchNorm2d(128, eps=1e-05, momentum=0.1, affine=True, track_running_stats=True)\n",
       "    (6): ReLU(inplace=True)\n",
       "    (7): MaxPool2d(kernel_size=2, stride=2, padding=0, dilation=1, ceil_mode=False)\n",
       "    (8): Conv2d(128, 256, kernel_size=(3, 3), stride=(1, 1), padding=(1, 1))\n",
       "    (9): BatchNorm2d(256, eps=1e-05, momentum=0.1, affine=True, track_running_stats=True)\n",
       "    (10): ReLU(inplace=True)\n",
       "    (11): Conv2d(256, 256, kernel_size=(3, 3), stride=(1, 1), padding=(1, 1))\n",
       "    (12): BatchNorm2d(256, eps=1e-05, momentum=0.1, affine=True, track_running_stats=True)\n",
       "    (13): ReLU(inplace=True)\n",
       "    (14): MaxPool2d(kernel_size=2, stride=2, padding=0, dilation=1, ceil_mode=False)\n",
       "    (15): Conv2d(256, 512, kernel_size=(3, 3), stride=(1, 1), padding=(1, 1))\n",
       "    (16): BatchNorm2d(512, eps=1e-05, momentum=0.1, affine=True, track_running_stats=True)\n",
       "    (17): ReLU(inplace=True)\n",
       "    (18): Conv2d(512, 512, kernel_size=(3, 3), stride=(1, 1), padding=(1, 1))\n",
       "    (19): BatchNorm2d(512, eps=1e-05, momentum=0.1, affine=True, track_running_stats=True)\n",
       "    (20): ReLU(inplace=True)\n",
       "    (21): MaxPool2d(kernel_size=2, stride=2, padding=0, dilation=1, ceil_mode=False)\n",
       "    (22): Conv2d(512, 512, kernel_size=(3, 3), stride=(1, 1), padding=(1, 1))\n",
       "    (23): BatchNorm2d(512, eps=1e-05, momentum=0.1, affine=True, track_running_stats=True)\n",
       "    (24): ReLU(inplace=True)\n",
       "    (25): Conv2d(512, 512, kernel_size=(3, 3), stride=(1, 1), padding=(1, 1))\n",
       "    (26): BatchNorm2d(512, eps=1e-05, momentum=0.1, affine=True, track_running_stats=True)\n",
       "    (27): ReLU(inplace=True)\n",
       "    (28): MaxPool2d(kernel_size=2, stride=2, padding=0, dilation=1, ceil_mode=False)\n",
       "  )\n",
       "  (avgpool): AdaptiveAvgPool2d(output_size=(7, 7))\n",
       "  (joint_classifier): Sequential(\n",
       "    (0): Linear(in_features=25088, out_features=2048, bias=True)\n",
       "    (1): Dropout(p=0.5, inplace=False)\n",
       "    (2): ReLU(inplace=True)\n",
       "  )\n",
       "  (classifier_emotion): Sequential(\n",
       "    (0): Linear(in_features=2048, out_features=512, bias=True)\n",
       "    (1): ReLU(inplace=True)\n",
       "    (2): Linear(in_features=512, out_features=4, bias=True)\n",
       "  )\n",
       "  (classifier_speaker): Sequential(\n",
       "    (0): Linear(in_features=2048, out_features=512, bias=True)\n",
       "    (1): ReLU(inplace=True)\n",
       "    (2): Linear(in_features=512, out_features=10, bias=True)\n",
       "  )\n",
       "  (classifier_gender): Sequential(\n",
       "    (0): Linear(in_features=2048, out_features=512, bias=True)\n",
       "    (1): ReLU(inplace=True)\n",
       "    (2): Linear(in_features=512, out_features=2, bias=True)\n",
       "  )\n",
       ")"
      ]
     },
     "execution_count": 3,
     "metadata": {},
     "output_type": "execute_result"
    }
   ],
   "source": [
    "a = torch.load('models/training_sessions/VGGAverageWeighting__IEMOCAP-4_four_prep-false_224_train.pt')\n",
    "state_dict = a['state_dict']\n",
    "model = md_multi.vgg(num_emotions=4, num_speakers=10, num_genders=2, type=11, bn=True)\n",
    "model.load_state_dict(state_dict=state_dict)\n",
    "device = torch.device('cuda:1')\n",
    "model.to(device)"
   ]
  },
  {
   "cell_type": "code",
   "execution_count": 6,
   "metadata": {},
   "outputs": [
    {
     "name": "stdout",
     "output_type": "stream",
     "text": [
      "============= INITIALIZING DATASET IEMOCAP-4_four_prep-false_224_test ===============\n",
      "=========================== SUCCESS! ====================================\n"
     ]
    }
   ],
   "source": [
    "test_ds = IemocapDataset(  # Без препроцессинга, тестовый\n",
    "    PATH_TO_PICKLE, IEMOCAP_PATH_TO_WAVS, IEMOCAP_PATH_TO_EGEMAPS, IEMOCAP_PATH_FOR_PARSER, \n",
    "    base_name='IEMOCAP-4', label_type='four', mode='test', preprocessing=False, \n",
    "    augmentation=True, padding='repeat', spectrogram_shape=224, spectrogram_type='melspec', tasks=('emotion', 'speaker', 'gender')\n",
    ")\n",
    "testloader = DataLoader(test_ds, batch_size=1, shuffle=True, num_workers=4)\n",
    "emotions = {\n",
    "    0: 'Anger',\n",
    "    1: 'Happiness',\n",
    "    2: 'Neutral',\n",
    "    3: 'Sadness'\n",
    "}\n",
    "genders = {\n",
    "    0: 'Female',\n",
    "    1: 'Male'\n",
    "}"
   ]
  },
  {
   "cell_type": "code",
   "execution_count": 8,
   "metadata": {},
   "outputs": [
    {
     "name": "stderr",
     "output_type": "stream",
     "text": [
      "<ipython-input-2-872ffc4e7fc2>:15: DeprecationWarning: np.asscalar(a) is deprecated since NumPy v1.16, use a.item() instead\n",
      "  target_emotion = np.asscalar(target_emotion.numpy()[0])\n",
      "<ipython-input-2-872ffc4e7fc2>:16: DeprecationWarning: np.asscalar(a) is deprecated since NumPy v1.16, use a.item() instead\n",
      "  target_speaker = np.asscalar(target_speaker.numpy()[0])\n",
      "<ipython-input-2-872ffc4e7fc2>:17: DeprecationWarning: np.asscalar(a) is deprecated since NumPy v1.16, use a.item() instead\n",
      "  target_gender = np.asscalar(target_gender.numpy()[0])\n",
      "<ipython-input-2-872ffc4e7fc2>:26: DeprecationWarning: np.asscalar(a) is deprecated since NumPy v1.16, use a.item() instead\n",
      "  pred_labels_emotion = np.asscalar(pred_labels_emotion.cpu().numpy()[0])\n",
      "<ipython-input-2-872ffc4e7fc2>:27: DeprecationWarning: np.asscalar(a) is deprecated since NumPy v1.16, use a.item() instead\n",
      "  pred_labels_speaker = np.asscalar(pred_labels_speaker.cpu().numpy()[0])\n",
      "<ipython-input-2-872ffc4e7fc2>:28: DeprecationWarning: np.asscalar(a) is deprecated since NumPy v1.16, use a.item() instead\n",
      "  pred_labels_gender = np.asscalar(pred_labels_gender.cpu().numpy()[0])\n"
     ]
    },
    {
     "data": {
      "text/plain": [
       "{'accuracy': {'emotion': 0.7122060470324748,\n",
       "  'speaker': 0.7816349384098544,\n",
       "  'gender': 0.9686450167973124},\n",
       " 'precision': {'emotion': 0.6846588096760864,\n",
       "  'speaker': 0.7737766685940236,\n",
       "  'gender': 0.9689705365657783},\n",
       " 'recall': {'emotion': 0.6657777987390894,\n",
       "  'speaker': 0.7713062396222561,\n",
       "  'gender': 0.9686600254812853},\n",
       " 'f1': {'emotion': 0.6727979791355514,\n",
       "  'speaker': 0.7674540844137657,\n",
       "  'gender': 0.9686402584632673}}"
      ]
     },
     "execution_count": 8,
     "metadata": {},
     "output_type": "execute_result"
    }
   ],
   "source": [
    "predictions = get_predictions_multi(model=model, testloader=testloader, device=torch.device('cuda:1'))\n",
    "e_true = predictions['e_true']\n",
    "e_true = [emotions[_] for _ in e_true]\n",
    "e_pred = predictions['e_pred']\n",
    "e_pred = [emotions[_] for _ in e_pred]\n",
    "\n",
    "s_true = predictions['s_true']\n",
    "s_pred = predictions['s_pred']\n",
    "\n",
    "g_true = predictions['g_true']\n",
    "g_true = [genders[_] for _ in g_true]\n",
    "g_pred = predictions['g_pred']\n",
    "g_pred = [genders[_] for _ in g_pred]\n",
    "metrics = {\n",
    "    'accuracy': {\n",
    "        'emotion': accuracy_score(e_true, e_pred),\n",
    "        'speaker': accuracy_score(s_true, s_pred),\n",
    "        'gender': accuracy_score(g_true, g_pred)\n",
    "    },\n",
    "    'precision': {\n",
    "        'emotion': precision_score(e_true, e_pred, average='macro'),\n",
    "        'speaker': precision_score(s_true, s_pred, average='macro'),\n",
    "        'gender': precision_score(g_true, g_pred, average='macro')\n",
    "    },\n",
    "    'recall': {\n",
    "        'emotion': recall_score(e_true, e_pred, average='macro'),\n",
    "        'speaker': recall_score(s_true, s_pred, average='macro'),\n",
    "        'gender': recall_score(g_true, g_pred, average='macro')\n",
    "    },\n",
    "    'f1': {\n",
    "        'emotion': f1_score(e_true, e_pred, average='macro'),\n",
    "        'speaker': f1_score(s_true, s_pred, average='macro'),\n",
    "        'gender': f1_score(g_true, g_pred, average='macro')\n",
    "    }\n",
    "}\n",
    "metrics"
   ]
  },
  {
   "cell_type": "code",
   "execution_count": 9,
   "metadata": {},
   "outputs": [
    {
     "name": "stdout",
     "output_type": "stream",
     "text": [
      "              precision    recall  f1-score   support\n",
      "\n",
      "       Anger       0.82      0.76      0.79       220\n",
      "   Happiness       0.50      0.39      0.44       118\n",
      "     Neutral       0.70      0.78      0.74       340\n",
      "     Sadness       0.72      0.73      0.73       215\n",
      "\n",
      "    accuracy                           0.71       893\n",
      "   macro avg       0.68      0.67      0.67       893\n",
      "weighted avg       0.71      0.71      0.71       893\n",
      "\n"
     ]
    }
   ],
   "source": [
    "print(classification_report(e_true, e_pred))"
   ]
  },
  {
   "cell_type": "code",
   "execution_count": 10,
   "metadata": {},
   "outputs": [
    {
     "name": "stdout",
     "output_type": "stream",
     "text": [
      "              precision    recall  f1-score   support\n",
      "\n",
      "           0       0.81      0.68      0.74        90\n",
      "           1       0.78      0.90      0.84        71\n",
      "           2       0.61      0.70      0.65        63\n",
      "           3       0.78      0.71      0.75        70\n",
      "           4       0.82      0.85      0.84       114\n",
      "           5       0.72      0.52      0.60        66\n",
      "           6       0.74      0.91      0.82        94\n",
      "           7       0.80      0.84      0.82        97\n",
      "           8       0.81      0.89      0.85       103\n",
      "           9       0.86      0.71      0.78       125\n",
      "\n",
      "    accuracy                           0.78       893\n",
      "   macro avg       0.77      0.77      0.77       893\n",
      "weighted avg       0.78      0.78      0.78       893\n",
      "\n"
     ]
    }
   ],
   "source": [
    "print(classification_report(s_true, s_pred))"
   ]
  },
  {
   "cell_type": "code",
   "execution_count": 11,
   "metadata": {},
   "outputs": [
    {
     "name": "stdout",
     "output_type": "stream",
     "text": [
      "              precision    recall  f1-score   support\n",
      "\n",
      "      Female       0.96      0.98      0.97       446\n",
      "        Male       0.98      0.96      0.97       447\n",
      "\n",
      "    accuracy                           0.97       893\n",
      "   macro avg       0.97      0.97      0.97       893\n",
      "weighted avg       0.97      0.97      0.97       893\n",
      "\n"
     ]
    }
   ],
   "source": [
    "print(classification_report(g_true, g_pred))"
   ]
  },
  {
   "cell_type": "code",
   "execution_count": null,
   "metadata": {},
   "outputs": [],
   "source": []
  }
 ],
 "metadata": {
  "kernelspec": {
   "display_name": "Python 3",
   "language": "python",
   "name": "python3"
  },
  "language_info": {
   "codemirror_mode": {
    "name": "ipython",
    "version": 3
   },
   "file_extension": ".py",
   "mimetype": "text/x-python",
   "name": "python",
   "nbconvert_exporter": "python",
   "pygments_lexer": "ipython3",
   "version": "3.7.7"
  }
 },
 "nbformat": 4,
 "nbformat_minor": 4
}
