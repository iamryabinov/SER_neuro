{
  "nbformat": 4,
  "nbformat_minor": 0,
  "metadata": {
    "colab": {
      "name": "prepare_audio_datasets.ipynb",
      "provenance": []
    },
    "kernelspec": {
      "name": "python3",
      "display_name": "Python 3"
    }
  },
  "cells": [
    {
      "cell_type": "code",
      "metadata": {
        "id": "sxqokV3RVddj",
        "colab_type": "code",
        "colab": {}
      },
      "source": [
        "import librosa\n",
        "import numpy as np\n",
        "\n",
        "import shutil\n",
        "import os\n",
        "import zipfile\n",
        "import tarfile\n",
        "\n",
        "import time\n",
        "import random\n",
        "\n",
        "import wave\n",
        "\n",
        "from google.colab import drive"
      ],
      "execution_count": null,
      "outputs": []
    },
    {
      "cell_type": "code",
      "metadata": {
        "id": "C-UNbWQTVxEi",
        "colab_type": "code",
        "colab": {
          "base_uri": "https://localhost:8080/",
          "height": 124
        },
        "outputId": "24da2256-3a4f-4b58-b86c-b7652e6c383b"
      },
      "source": [
        "drive.mount('/content/drive')"
      ],
      "execution_count": null,
      "outputs": [
        {
          "output_type": "stream",
          "text": [
            "Go to this URL in a browser: https://accounts.google.com/o/oauth2/auth?client_id=947318989803-6bn6qk8qdgf4n4g3pfee6491hc0brc4i.apps.googleusercontent.com&redirect_uri=urn%3aietf%3awg%3aoauth%3a2.0%3aoob&response_type=code&scope=email%20https%3a%2f%2fwww.googleapis.com%2fauth%2fdocs.test%20https%3a%2f%2fwww.googleapis.com%2fauth%2fdrive%20https%3a%2f%2fwww.googleapis.com%2fauth%2fdrive.photos.readonly%20https%3a%2f%2fwww.googleapis.com%2fauth%2fpeopleapi.readonly\n",
            "\n",
            "Enter your authorization code:\n",
            "··········\n",
            "Mounted at /content/drive\n"
          ],
          "name": "stdout"
        }
      ]
    },
    {
      "cell_type": "code",
      "metadata": {
        "id": "BGczcC6QVzMx",
        "colab_type": "code",
        "colab": {
          "base_uri": "https://localhost:8080/",
          "height": 52
        },
        "outputId": "79fed8b7-e164-42dc-b14e-f67a29f6fe25"
      },
      "source": [
        "path_to_zip = '/content/drive/My Drive/datasets/Audio_Speech_Actors_01-24.zip'\n",
        "target_path = '/content/RAVDESS'\n",
        "path_to_extract_to = os.path.join(target_path, 'extracted')\n",
        "\n",
        "if not os.path.isdir(target_path):\n",
        "    os.mkdir(target_path)\n",
        "\n",
        "path_to_zip = shutil.copy2(path_to_zip, target_path)\n",
        "\n",
        "print('Zip archive is copied')\n",
        "\n",
        "with zipfile.ZipFile(path_to_zip, 'r') as zip_ref:\n",
        "    zip_ref.extractall(path_to_extract_to)\n",
        "\n",
        "print('Zip archive is unpacked')"
      ],
      "execution_count": null,
      "outputs": [
        {
          "output_type": "stream",
          "text": [
            "Zip archive is copied\n",
            "Zip archive is unpached\n"
          ],
          "name": "stdout"
        }
      ]
    },
    {
      "cell_type": "code",
      "metadata": {
        "id": "g0Sb4T1wlCb_",
        "colab_type": "code",
        "colab": {}
      },
      "source": [
        "def get_paths_to_wavs(path_to_dataset):\n",
        "    file_paths_list = []\n",
        "\n",
        "    for root, dirs, files in os.walk(path_to_dataset):\n",
        "        if len(files) != 0:\n",
        "            file_paths_list += [os.path.join(root, f) for f in files if f.endswith('.wav')]\n",
        "\n",
        "    return file_paths_list"
      ],
      "execution_count": null,
      "outputs": []
    },
    {
      "cell_type": "code",
      "metadata": {
        "id": "IBHQ0wOxV99n",
        "colab_type": "code",
        "colab": {
          "base_uri": "https://localhost:8080/",
          "height": 69
        },
        "outputId": "d02d8466-0883-4ca6-ec03-aa5d53f9a6a7"
      },
      "source": [
        "# prepare numpy RAVDESS dataset\n",
        "paths_to_wavs_list = get_paths_to_wavs(path_to_extract_to)\n",
        "\n",
        "path_to_save = 'npy'\n",
        "\n",
        "if not os.path.isdir(path_to_save):\n",
        "    os.mkdir(path_to_save)\n",
        "\n",
        "for path_to_wav in paths_to_wavs_list:\n",
        "    # read file\n",
        "    wav, sr = librosa.load(path_to_wav)\n",
        "    wav.astype(np.float32)\n",
        "\n",
        "    # Parse the filename, which has the following pattern:\n",
        "    # modality-vocal_channel-emotion-intensity-statement-repetition-actor.wav\n",
        "    file_name = os.path.split(path_to_wav)[1]\n",
        "    file_name = file_name[:-4]\n",
        "\n",
        "    np.save(os.path.join(path_to_save, file_name + '.npy'), np.array([wav, sr]))\n",
        "\n",
        "print('Numpy converting process is completed')\n",
        "\n",
        "# archive npy-s files\n",
        "archive_name = 'ravdess-speech-sr{}.tar.xz'.format(sr)\n",
        "\n",
        "with tarfile.open(archive_name, 'w:xz') as tar:\n",
        "    for name in os.listdir(path_to_save):\n",
        "        tar.add(os.path.join(path_to_save, name))\n",
        "print('tar.xz archive packing process is completed')\n",
        "\n",
        "path_to_zip = shutil.copy2(archive_name, '/content/drive/My Drive/datasets/')\n",
        "\n",
        "print('The archive is stored to disk')"
      ],
      "execution_count": null,
      "outputs": [
        {
          "output_type": "stream",
          "text": [
            "Numpy converting process is completed\n",
            "tar.xz archive packing process is completed\n",
            "The archive is stored to disk\n"
          ],
          "name": "stdout"
        }
      ]
    },
    {
      "cell_type": "code",
      "metadata": {
        "id": "06VH5N4gmOmx",
        "colab_type": "code",
        "colab": {}
      },
      "source": [
        ""
      ],
      "execution_count": null,
      "outputs": []
    }
  ]
}